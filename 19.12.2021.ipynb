{
 "cells": [
  {
   "cell_type": "code",
   "execution_count": 214,
   "id": "6e610e63",
   "metadata": {},
   "outputs": [],
   "source": [
    "import numpy as np"
   ]
  },
  {
   "cell_type": "code",
   "execution_count": 215,
   "id": "f29b8edf",
   "metadata": {},
   "outputs": [],
   "source": [
    "x=[[20,25,30,35],\n",
    "   [9,10,11,12],\n",
    "   [4,2,3,1]]\n",
    "   "
   ]
  },
  {
   "cell_type": "code",
   "execution_count": 227,
   "id": "3b88eff1",
   "metadata": {},
   "outputs": [],
   "source": [
    "def euc(x1,x2):\n",
    "    my_s=0\n",
    "    for i in range(len(x1)):\n",
    "        my_s += (x1[i]-x2[i])**2\n",
    "    return np.sqrt(my_s)"
   ]
  },
  {
   "cell_type": "code",
   "execution_count": 228,
   "id": "6cde213f",
   "metadata": {},
   "outputs": [],
   "source": [
    "def p_f(x,sigma):\n",
    "    p = np.ndarray((len(x),len(x)))\n",
    "    for i in range(len(x)):\n",
    "        my_sum = 0\n",
    "        for k in range(len(x)):\n",
    "            if i!=k:\n",
    "                my_sum += (np.exp(-(((euc(x[i],x[k]))**2))/(2*sigma[i]**2)))\n",
    "        for j in range(len(x)):\n",
    "            if i!=j:\n",
    "                p[i][j]=((np.exp(-((euc(x[i],x[j]))**2)/(2*sigma[i]**2)))/my_sum)\n",
    "            else:\n",
    "                p[i][j]=0\n",
    "    for i in range(len(p)):\n",
    "        for j in range(len(p)):\n",
    "            if i >= j:\n",
    "                continue\n",
    "            p[i][j]=(p[i][j]+p[j][i])/2*len(x[0])\n",
    "            p[j][i]=p[i][j]\n",
    "    return p    "
   ]
  },
  {
   "cell_type": "code",
   "execution_count": 229,
   "id": "ec5ab427",
   "metadata": {},
   "outputs": [],
   "source": [
    "y=[[1,2,3],[90,78,60]]"
   ]
  },
  {
   "cell_type": "code",
   "execution_count": 230,
   "id": "f7e5fe8c",
   "metadata": {},
   "outputs": [],
   "source": [
    "def q(y):\n",
    "    q=np.ndarray((len(y),len(y)))\n",
    "    my_sum=0\n",
    "    for k in range(len(y)):\n",
    "        for l in range(len(y)):\n",
    "            if k!=l:\n",
    "                my_sum += 1/(1+(euc(y[k],y[l]))**2)\n",
    "                print(my_sum)\n",
    "    for i in range(len(y)):\n",
    "        for j in range(len(y)):\n",
    "            if i!=j:\n",
    "                q[i][j]=(1/(1+(euc(y[i],y[j]))**2))/(my_sum)\n",
    "            else:\n",
    "                q[i][j]=0\n",
    "    return q     "
   ]
  },
  {
   "cell_type": "code",
   "execution_count": 231,
   "id": "502f3cf5",
   "metadata": {},
   "outputs": [
    {
     "name": "stdout",
     "output_type": "stream",
     "text": [
      "5.9007493951731886e-05\n",
      "0.00011801498790346377\n",
      "[[0.  0.5]\n",
      " [0.5 0. ]]\n"
     ]
    }
   ],
   "source": [
    "print(q(y))"
   ]
  },
  {
   "cell_type": "code",
   "execution_count": 232,
   "id": "6c1adb40",
   "metadata": {},
   "outputs": [
    {
     "name": "stdout",
     "output_type": "stream",
     "text": [
      "[[0.         2.17652858 0.38083752]\n",
      " [2.17652858 0.         3.44263391]\n",
      " [0.38083752 3.44263391 0.        ]]\n"
     ]
    }
   ],
   "source": [
    "print(p_f(x,[20,20,20]))"
   ]
  },
  {
   "cell_type": "code",
   "execution_count": 224,
   "id": "79698834",
   "metadata": {},
   "outputs": [],
   "source": [
    "def binary():\n",
    "    pass"
   ]
  },
  {
   "cell_type": "code",
   "execution_count": null,
   "id": "be09c4ef",
   "metadata": {},
   "outputs": [],
   "source": [
    "def  sigma(i):\n",
    "    pass"
   ]
  },
  {
   "cell_type": "code",
   "execution_count": 225,
   "id": "32da8b8d",
   "metadata": {},
   "outputs": [],
   "source": [
    "def main():\n",
    "    pass"
   ]
  },
  {
   "cell_type": "code",
   "execution_count": 226,
   "id": "9362e48b",
   "metadata": {},
   "outputs": [],
   "source": [
    "def descent():\n",
    "    pass"
   ]
  }
 ],
 "metadata": {
  "kernelspec": {
   "display_name": "Python 3",
   "language": "python",
   "name": "python3"
  },
  "language_info": {
   "codemirror_mode": {
    "name": "ipython",
    "version": 3
   },
   "file_extension": ".py",
   "mimetype": "text/x-python",
   "name": "python",
   "nbconvert_exporter": "python",
   "pygments_lexer": "ipython3",
   "version": "3.8.8"
  }
 },
 "nbformat": 4,
 "nbformat_minor": 5
}
