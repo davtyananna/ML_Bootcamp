{
 "cells": [
  {
   "cell_type": "code",
   "execution_count": 91,
   "id": "5a9e09ad",
   "metadata": {},
   "outputs": [],
   "source": [
    "import numpy as np\n",
    "import pandas as pd\n",
    "import matplotlib.pyplot as plt\n",
    "from sklearn.neighbors import KNeighborsClassifier\n",
    "from sklearn.metrics.pairwise import euclidean_distances"
   ]
  },
  {
   "cell_type": "code",
   "execution_count": 98,
   "id": "ca61055a",
   "metadata": {},
   "outputs": [],
   "source": [
    "x_1 = [1,3,7,6,5,13,10,15,20,54]\n",
    "x_2 = [10,15,24,12,23,78,90,56,12,10]\n",
    "y = [1,1,1,1,1,-1,-1,-1,-1,-1]"
   ]
  },
  {
   "cell_type": "code",
   "execution_count": 93,
   "id": "77847b3f",
   "metadata": {},
   "outputs": [
    {
     "data": {
      "image/png": "[encoded data removed]",
      "text/plain": [
       "<Figure size 360x360 with 1 Axes>"
      ]
     },
     "metadata": {
      "needs_background": "light"
     },
     "output_type": "display_data"
    }
   ],
   "source": [
    "fig, ax = plt.subplots()\n",
    "\n",
    "ax.scatter(x_1, x_2, c=y)\n",
    "ax.set_title('Data')\n",
    "ax.set_xlabel(\"x_1\")\n",
    "ax.set_ylabel(\"x_2\")\n",
    "\n",
    "fig.set_figwidth(5)\n",
    "fig.set_figheight(5)  \n",
    "\n",
    "plt.show()"
   ]
  },
  {
   "cell_type": "code",
   "execution_count": 94,
   "id": "572468e7",
   "metadata": {},
   "outputs": [],
   "source": [
    "x_1 = np.asarray(x_1)\n",
    "x_2 = np.asarray(x_2)\n",
    "X = np.stack((x_1,x_2),axis=1)\n",
    "y = np.asarray(y)"
   ]
  },
  {
   "cell_type": "code",
   "execution_count": 95,
   "id": "c8f7f7d3",
   "metadata": {},
   "outputs": [
    {
     "name": "stdout",
     "output_type": "stream",
     "text": [
      "[1]\n"
     ]
    }
   ],
   "source": [
    "neigh = KNeighborsClassifier(n_neighbors=3)\n",
    "neigh.fit(X, y)\n",
    "print(neigh.predict([[1,1]]))"
   ]
  },
  {
   "cell_type": "code",
   "execution_count": 96,
   "id": "a67b62c9",
   "metadata": {},
   "outputs": [],
   "source": [
    "class KNN:\n",
    "    def __init__(self, n_neighbors, my_type):\n",
    "        self.neighbors = n_neighbors\n",
    "        self.type = my_type\n",
    "        \n",
    "    def fit(self,x,y):\n",
    "        self.x=np.asarray(x)\n",
    "        self.y=np.asarray(y)\n",
    "\n",
    "    def predict(self,sample):\n",
    "        dist = euclidean_distances(sample, self.x)\n",
    "        arguments = np.argsort(dist, axis=1)[0][:self.neighbors]\n",
    "        if self.type == 'regression':\n",
    "            return np.mean(self.y[arguments])\n",
    "        elif self.type == 'classifier':\n",
    "            unique, counts = np.unique(self.y[arguments], return_counts=True)\n",
    "            return unique[np.argmax(counts)]"
   ]
  },
  {
   "cell_type": "code",
   "execution_count": 97,
   "id": "c8a1109e",
   "metadata": {},
   "outputs": [
    {
     "name": "stdout",
     "output_type": "stream",
     "text": [
      "1\n"
     ]
    }
   ],
   "source": [
    "my_neigh = KNN(3, 'classifier')\n",
    "my_neigh.fit(X, y)\n",
    "print(my_neigh.predict([[1,1]]))"
   ]
  },
  {
   "cell_type": "code",
   "execution_count": null,
   "id": "1f1e754b",
   "metadata": {},
   "outputs": [],
   "source": []
  }
 ],
 "metadata": {
  "kernelspec": {
   "display_name": "Python 3",
   "language": "python",
   "name": "python3"
  },
  "language_info": {
   "codemirror_mode": {
    "name": "ipython",
    "version": 3
   },
   "file_extension": ".py",
   "mimetype": "text/x-python",
   "name": "python",
   "nbconvert_exporter": "python",
   "pygments_lexer": "ipython3",
   "version": "3.8.8"
  }
 },
 "nbformat": 4,
 "nbformat_minor": 5
}
