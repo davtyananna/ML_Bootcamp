{
 "cells": [
  {
   "cell_type": "code",
   "execution_count": 1,
   "id": "04a2c939",
   "metadata": {},
   "outputs": [],
   "source": [
    "import numpy as np\n",
    "import pandas as pd\n",
    "from sklearn.svm import SVC\n",
    "import matplotlib.pyplot as plt\n",
    "from sklearn.pipeline import Pipeline\n",
    "from sklearn.model_selection import GridSearchCV\n",
    "from sklearn.ensemble import RandomForestClassifier\n",
    "from sklearn.model_selection import train_test_split\n",
    "from sklearn.model_selection import RandomizedSearchCV\n",
    "from sklearn.feature_extraction.text import TfidfVectorizer\n",
    "from sklearn.metrics import accuracy_score,f1_score,classification_report,confusion_matrix"
   ]
  },
  {
   "cell_type": "code",
   "execution_count": 2,
   "id": "a2ffa85d",
   "metadata": {},
   "outputs": [],
   "source": [
    "data=pd.read_csv(r\"C:\\Users\\Anna\\PycharmProjects\\NLP\\spam.csv\",encoding='ISO-8859-1')"
   ]
  },
  {
   "cell_type": "code",
   "execution_count": 3,
   "id": "f3e0c03e",
   "metadata": {
    "scrolled": true
   },
   "outputs": [
    {
     "data": {
      "text/html": [
       "<div>\n",
       "<style scoped>\n",
       "    .dataframe tbody tr th:only-of-type {\n",
       "        vertical-align: middle;\n",
       "    }\n",
       "\n",
       "    .dataframe tbody tr th {\n",
       "        vertical-align: top;\n",
       "    }\n",
       "\n",
       "    .dataframe thead th {\n",
       "        text-align: right;\n",
       "    }\n",
       "</style>\n",
       "<table border=\"1\" class=\"dataframe\">\n",
       "  <thead>\n",
       "    <tr style=\"text-align: right;\">\n",
       "      <th></th>\n",
       "      <th>v1</th>\n",
       "      <th>v2</th>\n",
       "      <th>Unnamed: 2</th>\n",
       "      <th>Unnamed: 3</th>\n",
       "      <th>Unnamed: 4</th>\n",
       "    </tr>\n",
       "  </thead>\n",
       "  <tbody>\n",
       "    <tr>\n",
       "      <th>0</th>\n",
       "      <td>ham</td>\n",
       "      <td>Go until jurong point, crazy.. Available only ...</td>\n",
       "      <td>NaN</td>\n",
       "      <td>NaN</td>\n",
       "      <td>NaN</td>\n",
       "    </tr>\n",
       "    <tr>\n",
       "      <th>1</th>\n",
       "      <td>ham</td>\n",
       "      <td>Ok lar... Joking wif u oni...</td>\n",
       "      <td>NaN</td>\n",
       "      <td>NaN</td>\n",
       "      <td>NaN</td>\n",
       "    </tr>\n",
       "    <tr>\n",
       "      <th>2</th>\n",
       "      <td>spam</td>\n",
       "      <td>Free entry in 2 a wkly comp to win FA Cup fina...</td>\n",
       "      <td>NaN</td>\n",
       "      <td>NaN</td>\n",
       "      <td>NaN</td>\n",
       "    </tr>\n",
       "    <tr>\n",
       "      <th>3</th>\n",
       "      <td>ham</td>\n",
       "      <td>U dun say so early hor... U c already then say...</td>\n",
       "      <td>NaN</td>\n",
       "      <td>NaN</td>\n",
       "      <td>NaN</td>\n",
       "    </tr>\n",
       "    <tr>\n",
       "      <th>4</th>\n",
       "      <td>ham</td>\n",
       "      <td>Nah I don't think he goes to usf, he lives aro...</td>\n",
       "      <td>NaN</td>\n",
       "      <td>NaN</td>\n",
       "      <td>NaN</td>\n",
       "    </tr>\n",
       "  </tbody>\n",
       "</table>\n",
       "</div>"
      ],
      "text/plain": [
       "     v1                                                 v2 Unnamed: 2  \\\n",
       "0   ham  Go until jurong point, crazy.. Available only ...        NaN   \n",
       "1   ham                      Ok lar... Joking wif u oni...        NaN   \n",
       "2  spam  Free entry in 2 a wkly comp to win FA Cup fina...        NaN   \n",
       "3   ham  U dun say so early hor... U c already then say...        NaN   \n",
       "4   ham  Nah I don't think he goes to usf, he lives aro...        NaN   \n",
       "\n",
       "  Unnamed: 3 Unnamed: 4  \n",
       "0        NaN        NaN  \n",
       "1        NaN        NaN  \n",
       "2        NaN        NaN  \n",
       "3        NaN        NaN  \n",
       "4        NaN        NaN  "
      ]
     },
     "execution_count": 3,
     "metadata": {},
     "output_type": "execute_result"
    }
   ],
   "source": [
    "data.head()"
   ]
  },
  {
   "cell_type": "code",
   "execution_count": 4,
   "id": "7e3076b2",
   "metadata": {},
   "outputs": [
    {
     "data": {
      "text/plain": [
       "(5572, 5)"
      ]
     },
     "execution_count": 4,
     "metadata": {},
     "output_type": "execute_result"
    }
   ],
   "source": [
    "data.shape"
   ]
  },
  {
   "cell_type": "code",
   "execution_count": 5,
   "id": "9377f084",
   "metadata": {},
   "outputs": [
    {
     "data": {
      "text/plain": [
       "50"
      ]
     },
     "execution_count": 5,
     "metadata": {},
     "output_type": "execute_result"
    }
   ],
   "source": [
    "data['Unnamed: 2'].notna().sum()"
   ]
  },
  {
   "cell_type": "code",
   "execution_count": 6,
   "id": "b6a38703",
   "metadata": {},
   "outputs": [
    {
     "data": {
      "text/plain": [
       "12"
      ]
     },
     "execution_count": 6,
     "metadata": {},
     "output_type": "execute_result"
    }
   ],
   "source": [
    "data['Unnamed: 3'].notna().sum()"
   ]
  },
  {
   "cell_type": "code",
   "execution_count": 7,
   "id": "8c1e65e0",
   "metadata": {},
   "outputs": [
    {
     "data": {
      "text/plain": [
       "6"
      ]
     },
     "execution_count": 7,
     "metadata": {},
     "output_type": "execute_result"
    }
   ],
   "source": [
    "data['Unnamed: 4'].notna().sum()"
   ]
  },
  {
   "cell_type": "code",
   "execution_count": 8,
   "id": "cb09b6cc",
   "metadata": {},
   "outputs": [],
   "source": [
    "data=data.iloc[:,:2]"
   ]
  },
  {
   "cell_type": "code",
   "execution_count": 9,
   "id": "8d34c4d3",
   "metadata": {},
   "outputs": [
    {
     "data": {
      "text/html": [
       "<div>\n",
       "<style scoped>\n",
       "    .dataframe tbody tr th:only-of-type {\n",
       "        vertical-align: middle;\n",
       "    }\n",
       "\n",
       "    .dataframe tbody tr th {\n",
       "        vertical-align: top;\n",
       "    }\n",
       "\n",
       "    .dataframe thead th {\n",
       "        text-align: right;\n",
       "    }\n",
       "</style>\n",
       "<table border=\"1\" class=\"dataframe\">\n",
       "  <thead>\n",
       "    <tr style=\"text-align: right;\">\n",
       "      <th></th>\n",
       "      <th>v1</th>\n",
       "      <th>v2</th>\n",
       "    </tr>\n",
       "  </thead>\n",
       "  <tbody>\n",
       "    <tr>\n",
       "      <th>0</th>\n",
       "      <td>ham</td>\n",
       "      <td>Go until jurong point, crazy.. Available only ...</td>\n",
       "    </tr>\n",
       "    <tr>\n",
       "      <th>1</th>\n",
       "      <td>ham</td>\n",
       "      <td>Ok lar... Joking wif u oni...</td>\n",
       "    </tr>\n",
       "    <tr>\n",
       "      <th>2</th>\n",
       "      <td>spam</td>\n",
       "      <td>Free entry in 2 a wkly comp to win FA Cup fina...</td>\n",
       "    </tr>\n",
       "    <tr>\n",
       "      <th>3</th>\n",
       "      <td>ham</td>\n",
       "      <td>U dun say so early hor... U c already then say...</td>\n",
       "    </tr>\n",
       "    <tr>\n",
       "      <th>4</th>\n",
       "      <td>ham</td>\n",
       "      <td>Nah I don't think he goes to usf, he lives aro...</td>\n",
       "    </tr>\n",
       "  </tbody>\n",
       "</table>\n",
       "</div>"
      ],
      "text/plain": [
       "     v1                                                 v2\n",
       "0   ham  Go until jurong point, crazy.. Available only ...\n",
       "1   ham                      Ok lar... Joking wif u oni...\n",
       "2  spam  Free entry in 2 a wkly comp to win FA Cup fina...\n",
       "3   ham  U dun say so early hor... U c already then say...\n",
       "4   ham  Nah I don't think he goes to usf, he lives aro..."
      ]
     },
     "execution_count": 9,
     "metadata": {},
     "output_type": "execute_result"
    }
   ],
   "source": [
    "data.head()"
   ]
  },
  {
   "cell_type": "code",
   "execution_count": 10,
   "id": "0524931f",
   "metadata": {},
   "outputs": [],
   "source": [
    "data.columns = ['label', 'message']"
   ]
  },
  {
   "cell_type": "code",
   "execution_count": 11,
   "id": "4dc2fca0",
   "metadata": {},
   "outputs": [
    {
     "data": {
      "text/plain": [
       "label      0\n",
       "message    0\n",
       "dtype: int64"
      ]
     },
     "execution_count": 11,
     "metadata": {},
     "output_type": "execute_result"
    }
   ],
   "source": [
    "data.isna().sum()"
   ]
  },
  {
   "cell_type": "code",
   "execution_count": 12,
   "id": "7bb1eb9a",
   "metadata": {},
   "outputs": [
    {
     "data": {
      "text/plain": [
       "ham     4825\n",
       "spam     747\n",
       "Name: label, dtype: int64"
      ]
     },
     "execution_count": 12,
     "metadata": {},
     "output_type": "execute_result"
    }
   ],
   "source": [
    "data['label'].value_counts()"
   ]
  },
  {
   "cell_type": "markdown",
   "id": "4507b178",
   "metadata": {},
   "source": [
    "# Training a SVM and Random Forest models on TF-IDF vectorization of balanced dataset, accuracy is 0.962."
   ]
  },
  {
   "cell_type": "code",
   "execution_count": 13,
   "id": "555ee465",
   "metadata": {},
   "outputs": [],
   "source": [
    "spam=data[data['label']=='spam']"
   ]
  },
  {
   "cell_type": "code",
   "execution_count": 14,
   "id": "ce0a3f22",
   "metadata": {},
   "outputs": [],
   "source": [
    "ham=data[data['label']=='ham']"
   ]
  },
  {
   "cell_type": "code",
   "execution_count": 15,
   "id": "6b34788c",
   "metadata": {},
   "outputs": [],
   "source": [
    "ham=ham.sample(spam.shape[0])"
   ]
  },
  {
   "cell_type": "code",
   "execution_count": 16,
   "id": "4cc8eea2",
   "metadata": {},
   "outputs": [
    {
     "data": {
      "text/plain": [
       "((747, 2), (747, 2))"
      ]
     },
     "execution_count": 16,
     "metadata": {},
     "output_type": "execute_result"
    }
   ],
   "source": [
    "ham.shape,spam.shape"
   ]
  },
  {
   "cell_type": "code",
   "execution_count": 17,
   "id": "4868540a",
   "metadata": {},
   "outputs": [],
   "source": [
    "balanced_dataset=spam.append(ham,ignore_index=True)"
   ]
  },
  {
   "cell_type": "code",
   "execution_count": 18,
   "id": "b4c20e71",
   "metadata": {},
   "outputs": [],
   "source": [
    "X_train, X_test, y_train, y_test = train_test_split(balanced_dataset['message'], balanced_dataset['label'], test_size=0.33, random_state=42)"
   ]
  },
  {
   "cell_type": "code",
   "execution_count": 19,
   "id": "30551440",
   "metadata": {},
   "outputs": [
    {
     "name": "stdout",
     "output_type": "stream",
     "text": [
      "Accuracy score  with SVM model is  0.96 for balanced dataset\n"
     ]
    }
   ],
   "source": [
    "classifier = Pipeline([('tfidf', TfidfVectorizer()), ('classifier', SVC())])\n",
    "classifier.fit(X_train, y_train)\n",
    "y_pred=classifier.predict(X_test)\n",
    "print(\"Accuracy score  with SVM model is \",accuracy_score(y_test, y_pred).round(3),\"for balanced dataset\")"
   ]
  },
  {
   "cell_type": "code",
   "execution_count": 20,
   "id": "8bb6bae3",
   "metadata": {},
   "outputs": [
    {
     "name": "stdout",
     "output_type": "stream",
     "text": [
      "Accuracy score  with Random Forest model is  0.955 for balanced dataset\n"
     ]
    }
   ],
   "source": [
    "classifier_forest = Pipeline([('tfidf', TfidfVectorizer()), ('classifier', RandomForestClassifier(random_state=0))])\n",
    "classifier_forest.fit(X_train, y_train)\n",
    "y_pred=classifier_forest.predict(X_test)\n",
    "print(\"Accuracy score  with Random Forest model is \",accuracy_score(y_test, y_pred).round(3),\"for balanced dataset\")"
   ]
  },
  {
   "cell_type": "markdown",
   "id": "b129c4f8",
   "metadata": {},
   "source": [
    "# Training a SVM and Random Forest models on TF-IDF vectorization of imbalanced dataset, f1 score is 0.99."
   ]
  },
  {
   "cell_type": "code",
   "execution_count": 21,
   "id": "8c96a959",
   "metadata": {},
   "outputs": [],
   "source": [
    "X_train, X_test, y_train, y_test = train_test_split(data['message'], data['label'], test_size=0.33, random_state=42)"
   ]
  },
  {
   "cell_type": "code",
   "execution_count": 22,
   "id": "154810e6",
   "metadata": {},
   "outputs": [
    {
     "name": "stdout",
     "output_type": "stream",
     "text": [
      "f1 score with Random Forest model is  0.987 for imbalanced dataset\n"
     ]
    }
   ],
   "source": [
    "classifier_forest = Pipeline([('tfidf', TfidfVectorizer()), ('classifier', RandomForestClassifier(random_state=0))])\n",
    "classifier_forest.fit(X_train, y_train)\n",
    "y_pred=classifier_forest.predict(X_test)\n",
    "print(\"f1 score with Random Forest model is \",f1_score(y_test, y_pred,pos_label='ham').round(3),\"for imbalanced dataset\")"
   ]
  },
  {
   "cell_type": "code",
   "execution_count": 23,
   "id": "e03bf14e",
   "metadata": {},
   "outputs": [
    {
     "name": "stdout",
     "output_type": "stream",
     "text": [
      "f1 score  with SVM model is  0.991 for imbalanced dataset\n",
      "It's a best result.\n",
      "\n",
      " [[1582    5]\n",
      " [  25  227]]\n",
      "\n",
      "               precision    recall  f1-score   support\n",
      "\n",
      "         ham       0.98      1.00      0.99      1587\n",
      "        spam       0.98      0.90      0.94       252\n",
      "\n",
      "    accuracy                           0.98      1839\n",
      "   macro avg       0.98      0.95      0.96      1839\n",
      "weighted avg       0.98      0.98      0.98      1839\n",
      "\n"
     ]
    }
   ],
   "source": [
    "classifier = Pipeline([('tfidf', TfidfVectorizer()), ('classifier', SVC(C=10, gamma=0.1))])\n",
    "classifier.fit(X_train, y_train)\n",
    "y_pred=classifier.predict(X_test)\n",
    "print(\"f1 score  with SVM model is \",f1_score(y_test, y_pred,pos_label='ham').round(3),\"for imbalanced dataset\")\n",
    "print(\"It's a best result.\")\n",
    "print('\\n',confusion_matrix(y_test, y_pred))\n",
    "print('\\n',classification_report(y_test, y_pred))"
   ]
  },
  {
   "cell_type": "markdown",
   "id": "30614812",
   "metadata": {},
   "source": [
    "# Find best parameters for SVM model"
   ]
  },
  {
   "cell_type": "code",
   "execution_count": 24,
   "id": "a00d8ff7",
   "metadata": {},
   "outputs": [],
   "source": [
    "tf_vectorizer=TfidfVectorizer(min_df=4,max_df=0.3,ngram_range=(1,3))\n",
    "X_train_tfidf=tf_vectorizer.fit_transform(X_train)\n",
    "X_test_tfidf=tf_vectorizer.transform(X_test)"
   ]
  },
  {
   "cell_type": "code",
   "execution_count": 25,
   "id": "692aa4cc",
   "metadata": {},
   "outputs": [
    {
     "name": "stdout",
     "output_type": "stream",
     "text": [
      "Fitting 5 folds for each of 25 candidates, totalling 125 fits\n",
      "[CV 1/5] END .....................C=0.1, gamma=1, kernel=rbf; total time=   1.9s\n",
      "[CV 2/5] END .....................C=0.1, gamma=1, kernel=rbf; total time=   1.9s\n",
      "[CV 3/5] END .....................C=0.1, gamma=1, kernel=rbf; total time=   1.9s\n",
      "[CV 4/5] END .....................C=0.1, gamma=1, kernel=rbf; total time=   1.9s\n",
      "[CV 5/5] END .....................C=0.1, gamma=1, kernel=rbf; total time=   1.9s\n",
      "[CV 1/5] END ...................C=0.1, gamma=0.1, kernel=rbf; total time=   1.2s\n",
      "[CV 2/5] END ...................C=0.1, gamma=0.1, kernel=rbf; total time=   1.2s\n",
      "[CV 3/5] END ...................C=0.1, gamma=0.1, kernel=rbf; total time=   1.2s\n",
      "[CV 4/5] END ...................C=0.1, gamma=0.1, kernel=rbf; total time=   1.2s\n",
      "[CV 5/5] END ...................C=0.1, gamma=0.1, kernel=rbf; total time=   1.2s\n",
      "[CV 1/5] END ..................C=0.1, gamma=0.01, kernel=rbf; total time=   1.1s\n",
      "[CV 2/5] END ..................C=0.1, gamma=0.01, kernel=rbf; total time=   1.0s\n",
      "[CV 3/5] END ..................C=0.1, gamma=0.01, kernel=rbf; total time=   1.1s\n",
      "[CV 4/5] END ..................C=0.1, gamma=0.01, kernel=rbf; total time=   1.1s\n",
      "[CV 5/5] END ..................C=0.1, gamma=0.01, kernel=rbf; total time=   1.1s\n",
      "[CV 1/5] END .................C=0.1, gamma=0.001, kernel=rbf; total time=   1.0s\n",
      "[CV 2/5] END .................C=0.1, gamma=0.001, kernel=rbf; total time=   1.0s\n",
      "[CV 3/5] END .................C=0.1, gamma=0.001, kernel=rbf; total time=   1.0s\n",
      "[CV 4/5] END .................C=0.1, gamma=0.001, kernel=rbf; total time=   1.0s\n",
      "[CV 5/5] END .................C=0.1, gamma=0.001, kernel=rbf; total time=   1.0s\n",
      "[CV 1/5] END ................C=0.1, gamma=0.0001, kernel=rbf; total time=   1.0s\n",
      "[CV 2/5] END ................C=0.1, gamma=0.0001, kernel=rbf; total time=   1.0s\n",
      "[CV 3/5] END ................C=0.1, gamma=0.0001, kernel=rbf; total time=   1.0s\n",
      "[CV 4/5] END ................C=0.1, gamma=0.0001, kernel=rbf; total time=   1.0s\n",
      "[CV 5/5] END ................C=0.1, gamma=0.0001, kernel=rbf; total time=   1.0s\n",
      "[CV 1/5] END .......................C=1, gamma=1, kernel=rbf; total time=   2.4s\n",
      "[CV 2/5] END .......................C=1, gamma=1, kernel=rbf; total time=   2.7s\n",
      "[CV 3/5] END .......................C=1, gamma=1, kernel=rbf; total time=   2.8s\n",
      "[CV 4/5] END .......................C=1, gamma=1, kernel=rbf; total time=   2.7s\n",
      "[CV 5/5] END .......................C=1, gamma=1, kernel=rbf; total time=   2.5s\n",
      "[CV 1/5] END .....................C=1, gamma=0.1, kernel=rbf; total time=   1.2s\n",
      "[CV 2/5] END .....................C=1, gamma=0.1, kernel=rbf; total time=   1.2s\n",
      "[CV 3/5] END .....................C=1, gamma=0.1, kernel=rbf; total time=   1.2s\n",
      "[CV 4/5] END .....................C=1, gamma=0.1, kernel=rbf; total time=   1.3s\n",
      "[CV 5/5] END .....................C=1, gamma=0.1, kernel=rbf; total time=   1.3s\n",
      "[CV 1/5] END ....................C=1, gamma=0.01, kernel=rbf; total time=   1.2s\n",
      "[CV 2/5] END ....................C=1, gamma=0.01, kernel=rbf; total time=   1.2s\n",
      "[CV 3/5] END ....................C=1, gamma=0.01, kernel=rbf; total time=   1.2s\n",
      "[CV 4/5] END ....................C=1, gamma=0.01, kernel=rbf; total time=   1.2s\n",
      "[CV 5/5] END ....................C=1, gamma=0.01, kernel=rbf; total time=   1.2s\n",
      "[CV 1/5] END ...................C=1, gamma=0.001, kernel=rbf; total time=   1.1s\n",
      "[CV 2/5] END ...................C=1, gamma=0.001, kernel=rbf; total time=   1.1s\n",
      "[CV 3/5] END ...................C=1, gamma=0.001, kernel=rbf; total time=   1.1s\n",
      "[CV 4/5] END ...................C=1, gamma=0.001, kernel=rbf; total time=   1.1s\n",
      "[CV 5/5] END ...................C=1, gamma=0.001, kernel=rbf; total time=   1.1s\n",
      "[CV 1/5] END ..................C=1, gamma=0.0001, kernel=rbf; total time=   1.0s\n",
      "[CV 2/5] END ..................C=1, gamma=0.0001, kernel=rbf; total time=   1.0s\n",
      "[CV 3/5] END ..................C=1, gamma=0.0001, kernel=rbf; total time=   1.0s\n",
      "[CV 4/5] END ..................C=1, gamma=0.0001, kernel=rbf; total time=   1.0s\n",
      "[CV 5/5] END ..................C=1, gamma=0.0001, kernel=rbf; total time=   1.0s\n",
      "[CV 1/5] END ......................C=10, gamma=1, kernel=rbf; total time=   2.7s\n",
      "[CV 2/5] END ......................C=10, gamma=1, kernel=rbf; total time=   2.7s\n",
      "[CV 3/5] END ......................C=10, gamma=1, kernel=rbf; total time=   2.7s\n",
      "[CV 4/5] END ......................C=10, gamma=1, kernel=rbf; total time=   2.7s\n",
      "[CV 5/5] END ......................C=10, gamma=1, kernel=rbf; total time=   2.7s\n",
      "[CV 1/5] END ....................C=10, gamma=0.1, kernel=rbf; total time=   0.9s\n",
      "[CV 2/5] END ....................C=10, gamma=0.1, kernel=rbf; total time=   1.0s\n",
      "[CV 3/5] END ....................C=10, gamma=0.1, kernel=rbf; total time=   1.0s\n",
      "[CV 4/5] END ....................C=10, gamma=0.1, kernel=rbf; total time=   0.9s\n",
      "[CV 5/5] END ....................C=10, gamma=0.1, kernel=rbf; total time=   0.9s\n",
      "[CV 1/5] END ...................C=10, gamma=0.01, kernel=rbf; total time=   1.3s\n",
      "[CV 2/5] END ...................C=10, gamma=0.01, kernel=rbf; total time=   1.4s\n",
      "[CV 3/5] END ...................C=10, gamma=0.01, kernel=rbf; total time=   1.2s\n",
      "[CV 4/5] END ...................C=10, gamma=0.01, kernel=rbf; total time=   1.2s\n",
      "[CV 5/5] END ...................C=10, gamma=0.01, kernel=rbf; total time=   1.2s\n",
      "[CV 1/5] END ..................C=10, gamma=0.001, kernel=rbf; total time=   1.2s\n",
      "[CV 2/5] END ..................C=10, gamma=0.001, kernel=rbf; total time=   1.0s\n",
      "[CV 3/5] END ..................C=10, gamma=0.001, kernel=rbf; total time=   1.2s\n",
      "[CV 4/5] END ..................C=10, gamma=0.001, kernel=rbf; total time=   1.3s\n",
      "[CV 5/5] END ..................C=10, gamma=0.001, kernel=rbf; total time=   1.6s\n",
      "[CV 1/5] END .................C=10, gamma=0.0001, kernel=rbf; total time=   1.2s\n",
      "[CV 2/5] END .................C=10, gamma=0.0001, kernel=rbf; total time=   1.1s\n",
      "[CV 3/5] END .................C=10, gamma=0.0001, kernel=rbf; total time=   1.1s\n",
      "[CV 4/5] END .................C=10, gamma=0.0001, kernel=rbf; total time=   1.1s\n",
      "[CV 5/5] END .................C=10, gamma=0.0001, kernel=rbf; total time=   1.1s\n",
      "[CV 1/5] END .....................C=100, gamma=1, kernel=rbf; total time=   2.9s\n",
      "[CV 2/5] END .....................C=100, gamma=1, kernel=rbf; total time=   2.6s\n",
      "[CV 3/5] END .....................C=100, gamma=1, kernel=rbf; total time=   3.0s\n",
      "[CV 4/5] END .....................C=100, gamma=1, kernel=rbf; total time=   2.8s\n",
      "[CV 5/5] END .....................C=100, gamma=1, kernel=rbf; total time=   2.8s\n",
      "[CV 1/5] END ...................C=100, gamma=0.1, kernel=rbf; total time=   0.9s\n",
      "[CV 2/5] END ...................C=100, gamma=0.1, kernel=rbf; total time=   0.9s\n",
      "[CV 3/5] END ...................C=100, gamma=0.1, kernel=rbf; total time=   0.9s\n",
      "[CV 4/5] END ...................C=100, gamma=0.1, kernel=rbf; total time=   0.9s\n",
      "[CV 5/5] END ...................C=100, gamma=0.1, kernel=rbf; total time=   0.9s\n",
      "[CV 1/5] END ..................C=100, gamma=0.01, kernel=rbf; total time=   0.9s\n",
      "[CV 2/5] END ..................C=100, gamma=0.01, kernel=rbf; total time=   0.9s\n",
      "[CV 3/5] END ..................C=100, gamma=0.01, kernel=rbf; total time=   0.9s\n",
      "[CV 4/5] END ..................C=100, gamma=0.01, kernel=rbf; total time=   0.8s\n",
      "[CV 5/5] END ..................C=100, gamma=0.01, kernel=rbf; total time=   0.9s\n",
      "[CV 1/5] END .................C=100, gamma=0.001, kernel=rbf; total time=   1.2s\n",
      "[CV 2/5] END .................C=100, gamma=0.001, kernel=rbf; total time=   1.4s\n",
      "[CV 3/5] END .................C=100, gamma=0.001, kernel=rbf; total time=   1.3s\n",
      "[CV 4/5] END .................C=100, gamma=0.001, kernel=rbf; total time=   1.2s\n",
      "[CV 5/5] END .................C=100, gamma=0.001, kernel=rbf; total time=   1.2s\n",
      "[CV 1/5] END ................C=100, gamma=0.0001, kernel=rbf; total time=   1.2s\n",
      "[CV 2/5] END ................C=100, gamma=0.0001, kernel=rbf; total time=   1.1s\n",
      "[CV 3/5] END ................C=100, gamma=0.0001, kernel=rbf; total time=   1.2s\n",
      "[CV 4/5] END ................C=100, gamma=0.0001, kernel=rbf; total time=   1.2s\n",
      "[CV 5/5] END ................C=100, gamma=0.0001, kernel=rbf; total time=   1.2s\n",
      "[CV 1/5] END ....................C=1000, gamma=1, kernel=rbf; total time=   2.7s\n"
     ]
    },
    {
     "name": "stdout",
     "output_type": "stream",
     "text": [
      "[CV 2/5] END ....................C=1000, gamma=1, kernel=rbf; total time=   2.6s\n",
      "[CV 3/5] END ....................C=1000, gamma=1, kernel=rbf; total time=   2.5s\n",
      "[CV 4/5] END ....................C=1000, gamma=1, kernel=rbf; total time=   2.7s\n",
      "[CV 5/5] END ....................C=1000, gamma=1, kernel=rbf; total time=   2.8s\n",
      "[CV 1/5] END ..................C=1000, gamma=0.1, kernel=rbf; total time=   1.1s\n",
      "[CV 2/5] END ..................C=1000, gamma=0.1, kernel=rbf; total time=   0.9s\n",
      "[CV 3/5] END ..................C=1000, gamma=0.1, kernel=rbf; total time=   1.2s\n",
      "[CV 4/5] END ..................C=1000, gamma=0.1, kernel=rbf; total time=   0.9s\n",
      "[CV 5/5] END ..................C=1000, gamma=0.1, kernel=rbf; total time=   0.8s\n",
      "[CV 1/5] END .................C=1000, gamma=0.01, kernel=rbf; total time=   0.8s\n",
      "[CV 2/5] END .................C=1000, gamma=0.01, kernel=rbf; total time=   0.9s\n",
      "[CV 3/5] END .................C=1000, gamma=0.01, kernel=rbf; total time=   0.8s\n",
      "[CV 4/5] END .................C=1000, gamma=0.01, kernel=rbf; total time=   0.8s\n",
      "[CV 5/5] END .................C=1000, gamma=0.01, kernel=rbf; total time=   0.9s\n",
      "[CV 1/5] END ................C=1000, gamma=0.001, kernel=rbf; total time=   0.8s\n",
      "[CV 2/5] END ................C=1000, gamma=0.001, kernel=rbf; total time=   0.8s\n",
      "[CV 3/5] END ................C=1000, gamma=0.001, kernel=rbf; total time=   0.9s\n",
      "[CV 4/5] END ................C=1000, gamma=0.001, kernel=rbf; total time=   0.9s\n",
      "[CV 5/5] END ................C=1000, gamma=0.001, kernel=rbf; total time=   0.9s\n",
      "[CV 1/5] END ...............C=1000, gamma=0.0001, kernel=rbf; total time=   1.3s\n",
      "[CV 2/5] END ...............C=1000, gamma=0.0001, kernel=rbf; total time=   1.2s\n",
      "[CV 3/5] END ...............C=1000, gamma=0.0001, kernel=rbf; total time=   1.3s\n",
      "[CV 4/5] END ...............C=1000, gamma=0.0001, kernel=rbf; total time=   1.3s\n",
      "[CV 5/5] END ...............C=1000, gamma=0.0001, kernel=rbf; total time=   1.2s\n",
      "{'C': 10, 'gamma': 0.1, 'kernel': 'rbf'}\n",
      "SVC(C=10, gamma=0.1)\n",
      "              precision    recall  f1-score   support\n",
      "\n",
      "         ham       0.98      1.00      0.99      1587\n",
      "        spam       0.98      0.90      0.94       252\n",
      "\n",
      "    accuracy                           0.98      1839\n",
      "   macro avg       0.98      0.95      0.97      1839\n",
      "weighted avg       0.98      0.98      0.98      1839\n",
      "\n"
     ]
    }
   ],
   "source": [
    "param_grid = {'C': [0.1, 1, 10, 100, 1000], \n",
    "              'gamma': [1, 0.1, 0.01, 0.001, 0.0001],\n",
    "              'kernel': ['rbf']} \n",
    "classifier = SVC()  \n",
    "grid = GridSearchCV(classifier, param_grid, refit = True, verbose = 3)\n",
    "grid.fit(X_train_tfidf, y_train)\n",
    "print(grid.best_params_)\n",
    "print(grid.best_estimator_)\n",
    "grid_predictions = grid.predict(X_test_tfidf)\n",
    "print(classification_report(y_test, grid_predictions))"
   ]
  },
  {
   "cell_type": "code",
   "execution_count": null,
   "id": "f95a4e6b",
   "metadata": {},
   "outputs": [],
   "source": []
  }
 ],
 "metadata": {
  "kernelspec": {
   "display_name": "Python 3",
   "language": "python",
   "name": "python3"
  },
  "language_info": {
   "codemirror_mode": {
    "name": "ipython",
    "version": 3
   },
   "file_extension": ".py",
   "mimetype": "text/x-python",
   "name": "python",
   "nbconvert_exporter": "python",
   "pygments_lexer": "ipython3",
   "version": "3.8.8"
  }
 },
 "nbformat": 4,
 "nbformat_minor": 5
}
