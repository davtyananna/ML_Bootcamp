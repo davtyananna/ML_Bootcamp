{
 "cells": [
  {
   "cell_type": "code",
   "execution_count": 1,
   "id": "dbfcd2d0",
   "metadata": {},
   "outputs": [],
   "source": [
    "import numpy as np\n",
    "import pandas as pd\n",
    "from sklearn.svm import SVC\n",
    "import matplotlib.pyplot as plt\n",
    "from sklearn.pipeline import Pipeline\n",
    "from sklearn.model_selection import GridSearchCV\n",
    "from sklearn.ensemble import RandomForestClassifier\n",
    "from sklearn.model_selection import train_test_split\n",
    "from sklearn.model_selection import RandomizedSearchCV\n",
    "from sklearn.feature_extraction.text import TfidfVectorizer\n",
    "from sklearn.metrics import accuracy_score,f1_score,classification_report,confusion_matrix"
   ]
  },
  {
   "cell_type": "code",
   "execution_count": 2,
   "id": "816668c4",
   "metadata": {},
   "outputs": [],
   "source": [
    "data=pd.read_csv(r\"C:\\Users\\Anna\\PycharmProjects\\NLP\\spam.csv\",encoding='ISO-8859-1')"
   ]
  },
  {
   "cell_type": "code",
   "execution_count": 3,
   "id": "eb588df3",
   "metadata": {
    "scrolled": true
   },
   "outputs": [
    {
     "data": {
      "text/html": [
       "<div>\n",
       "<style scoped>\n",
       "    .dataframe tbody tr th:only-of-type {\n",
       "        vertical-align: middle;\n",
       "    }\n",
       "\n",
       "    .dataframe tbody tr th {\n",
       "        vertical-align: top;\n",
       "    }\n",
       "\n",
       "    .dataframe thead th {\n",
       "        text-align: right;\n",
       "    }\n",
       "</style>\n",
       "<table border=\"1\" class=\"dataframe\">\n",
       "  <thead>\n",
       "    <tr style=\"text-align: right;\">\n",
       "      <th></th>\n",
       "      <th>v1</th>\n",
       "      <th>v2</th>\n",
       "      <th>Unnamed: 2</th>\n",
       "      <th>Unnamed: 3</th>\n",
       "      <th>Unnamed: 4</th>\n",
       "    </tr>\n",
       "  </thead>\n",
       "  <tbody>\n",
       "    <tr>\n",
       "      <th>0</th>\n",
       "      <td>ham</td>\n",
       "      <td>Go until jurong point, crazy.. Available only ...</td>\n",
       "      <td>NaN</td>\n",
       "      <td>NaN</td>\n",
       "      <td>NaN</td>\n",
       "    </tr>\n",
       "    <tr>\n",
       "      <th>1</th>\n",
       "      <td>ham</td>\n",
       "      <td>Ok lar... Joking wif u oni...</td>\n",
       "      <td>NaN</td>\n",
       "      <td>NaN</td>\n",
       "      <td>NaN</td>\n",
       "    </tr>\n",
       "    <tr>\n",
       "      <th>2</th>\n",
       "      <td>spam</td>\n",
       "      <td>Free entry in 2 a wkly comp to win FA Cup fina...</td>\n",
       "      <td>NaN</td>\n",
       "      <td>NaN</td>\n",
       "      <td>NaN</td>\n",
       "    </tr>\n",
       "    <tr>\n",
       "      <th>3</th>\n",
       "      <td>ham</td>\n",
       "      <td>U dun say so early hor... U c already then say...</td>\n",
       "      <td>NaN</td>\n",
       "      <td>NaN</td>\n",
       "      <td>NaN</td>\n",
       "    </tr>\n",
       "    <tr>\n",
       "      <th>4</th>\n",
       "      <td>ham</td>\n",
       "      <td>Nah I don't think he goes to usf, he lives aro...</td>\n",
       "      <td>NaN</td>\n",
       "      <td>NaN</td>\n",
       "      <td>NaN</td>\n",
       "    </tr>\n",
       "  </tbody>\n",
       "</table>\n",
       "</div>"
      ],
      "text/plain": [
       "     v1                                                 v2 Unnamed: 2  \\\n",
       "0   ham  Go until jurong point, crazy.. Available only ...        NaN   \n",
       "1   ham                      Ok lar... Joking wif u oni...        NaN   \n",
       "2  spam  Free entry in 2 a wkly comp to win FA Cup fina...        NaN   \n",
       "3   ham  U dun say so early hor... U c already then say...        NaN   \n",
       "4   ham  Nah I don't think he goes to usf, he lives aro...        NaN   \n",
       "\n",
       "  Unnamed: 3 Unnamed: 4  \n",
       "0        NaN        NaN  \n",
       "1        NaN        NaN  \n",
       "2        NaN        NaN  \n",
       "3        NaN        NaN  \n",
       "4        NaN        NaN  "
      ]
     },
     "execution_count": 3,
     "metadata": {},
     "output_type": "execute_result"
    }
   ],
   "source": [
    "data.head()"
   ]
  },
  {
   "cell_type": "code",
   "execution_count": 4,
   "id": "3909045b",
   "metadata": {},
   "outputs": [
    {
     "data": {
      "text/plain": [
       "(5572, 5)"
      ]
     },
     "execution_count": 4,
     "metadata": {},
     "output_type": "execute_result"
    }
   ],
   "source": [
    "data.shape"
   ]
  },
  {
   "cell_type": "code",
   "execution_count": 5,
   "id": "4b6b9b97",
   "metadata": {},
   "outputs": [
    {
     "data": {
      "text/plain": [
       "50"
      ]
     },
     "execution_count": 5,
     "metadata": {},
     "output_type": "execute_result"
    }
   ],
   "source": [
    "data['Unnamed: 2'].notna().sum()"
   ]
  },
  {
   "cell_type": "code",
   "execution_count": 6,
   "id": "533461cf",
   "metadata": {},
   "outputs": [
    {
     "data": {
      "text/plain": [
       "12"
      ]
     },
     "execution_count": 6,
     "metadata": {},
     "output_type": "execute_result"
    }
   ],
   "source": [
    "data['Unnamed: 3'].notna().sum()"
   ]
  },
  {
   "cell_type": "code",
   "execution_count": 7,
   "id": "609728bd",
   "metadata": {},
   "outputs": [
    {
     "data": {
      "text/plain": [
       "6"
      ]
     },
     "execution_count": 7,
     "metadata": {},
     "output_type": "execute_result"
    }
   ],
   "source": [
    "data['Unnamed: 4'].notna().sum()"
   ]
  },
  {
   "cell_type": "code",
   "execution_count": 8,
   "id": "d6783096",
   "metadata": {},
   "outputs": [],
   "source": [
    "data=data.iloc[:,:2]"
   ]
  },
  {
   "cell_type": "code",
   "execution_count": 9,
   "id": "6ddaaa40",
   "metadata": {},
   "outputs": [
    {
     "data": {
      "text/html": [
       "<div>\n",
       "<style scoped>\n",
       "    .dataframe tbody tr th:only-of-type {\n",
       "        vertical-align: middle;\n",
       "    }\n",
       "\n",
       "    .dataframe tbody tr th {\n",
       "        vertical-align: top;\n",
       "    }\n",
       "\n",
       "    .dataframe thead th {\n",
       "        text-align: right;\n",
       "    }\n",
       "</style>\n",
       "<table border=\"1\" class=\"dataframe\">\n",
       "  <thead>\n",
       "    <tr style=\"text-align: right;\">\n",
       "      <th></th>\n",
       "      <th>v1</th>\n",
       "      <th>v2</th>\n",
       "    </tr>\n",
       "  </thead>\n",
       "  <tbody>\n",
       "    <tr>\n",
       "      <th>0</th>\n",
       "      <td>ham</td>\n",
       "      <td>Go until jurong point, crazy.. Available only ...</td>\n",
       "    </tr>\n",
       "    <tr>\n",
       "      <th>1</th>\n",
       "      <td>ham</td>\n",
       "      <td>Ok lar... Joking wif u oni...</td>\n",
       "    </tr>\n",
       "    <tr>\n",
       "      <th>2</th>\n",
       "      <td>spam</td>\n",
       "      <td>Free entry in 2 a wkly comp to win FA Cup fina...</td>\n",
       "    </tr>\n",
       "    <tr>\n",
       "      <th>3</th>\n",
       "      <td>ham</td>\n",
       "      <td>U dun say so early hor... U c already then say...</td>\n",
       "    </tr>\n",
       "    <tr>\n",
       "      <th>4</th>\n",
       "      <td>ham</td>\n",
       "      <td>Nah I don't think he goes to usf, he lives aro...</td>\n",
       "    </tr>\n",
       "  </tbody>\n",
       "</table>\n",
       "</div>"
      ],
      "text/plain": [
       "     v1                                                 v2\n",
       "0   ham  Go until jurong point, crazy.. Available only ...\n",
       "1   ham                      Ok lar... Joking wif u oni...\n",
       "2  spam  Free entry in 2 a wkly comp to win FA Cup fina...\n",
       "3   ham  U dun say so early hor... U c already then say...\n",
       "4   ham  Nah I don't think he goes to usf, he lives aro..."
      ]
     },
     "execution_count": 9,
     "metadata": {},
     "output_type": "execute_result"
    }
   ],
   "source": [
    "data.head()"
   ]
  },
  {
   "cell_type": "code",
   "execution_count": 10,
   "id": "30495ccb",
   "metadata": {},
   "outputs": [],
   "source": [
    "data.columns = ['label', 'message']"
   ]
  },
  {
   "cell_type": "code",
   "execution_count": 11,
   "id": "c9880dfb",
   "metadata": {},
   "outputs": [
    {
     "data": {
      "text/plain": [
       "label      0\n",
       "message    0\n",
       "dtype: int64"
      ]
     },
     "execution_count": 11,
     "metadata": {},
     "output_type": "execute_result"
    }
   ],
   "source": [
    "data.isna().sum()"
   ]
  },
  {
   "cell_type": "code",
   "execution_count": 12,
   "id": "135c254b",
   "metadata": {},
   "outputs": [
    {
     "data": {
      "text/plain": [
       "ham     4825\n",
       "spam     747\n",
       "Name: label, dtype: int64"
      ]
     },
     "execution_count": 12,
     "metadata": {},
     "output_type": "execute_result"
    }
   ],
   "source": [
    "data['label'].value_counts()"
   ]
  },
  {
   "cell_type": "markdown",
   "id": "e95c7fb7",
   "metadata": {},
   "source": [
    "# Training a SVM and Random Forest models on TF-IDF vectorization of balanced dataset, accuracy is 0.962."
   ]
  },
  {
   "cell_type": "code",
   "execution_count": 13,
   "id": "e7e927c1",
   "metadata": {},
   "outputs": [],
   "source": [
    "spam=data[data['label']=='spam']"
   ]
  },
  {
   "cell_type": "code",
   "execution_count": 14,
   "id": "47eab5aa",
   "metadata": {},
   "outputs": [],
   "source": [
    "ham=data[data['label']=='ham']"
   ]
  },
  {
   "cell_type": "code",
   "execution_count": 15,
   "id": "2bf03c0d",
   "metadata": {},
   "outputs": [],
   "source": [
    "ham=ham.sample(spam.shape[0])"
   ]
  },
  {
   "cell_type": "code",
   "execution_count": 16,
   "id": "cdc1c543",
   "metadata": {},
   "outputs": [
    {
     "data": {
      "text/plain": [
       "((747, 2), (747, 2))"
      ]
     },
     "execution_count": 16,
     "metadata": {},
     "output_type": "execute_result"
    }
   ],
   "source": [
    "ham.shape,spam.shape"
   ]
  },
  {
   "cell_type": "code",
   "execution_count": 17,
   "id": "9d3b35e7",
   "metadata": {},
   "outputs": [],
   "source": [
    "balanced_dataset=spam.append(ham,ignore_index=True)"
   ]
  },
  {
   "cell_type": "code",
   "execution_count": 18,
   "id": "9535e0b1",
   "metadata": {},
   "outputs": [],
   "source": [
    "X_train, X_test, y_train, y_test = train_test_split(balanced_dataset['message'], balanced_dataset['label'], test_size=0.33, random_state=42)"
   ]
  },
  {
   "cell_type": "code",
   "execution_count": 19,
   "id": "4e7e5b8f",
   "metadata": {},
   "outputs": [
    {
     "name": "stdout",
     "output_type": "stream",
     "text": [
      "Accuracy score  with SVM model is  0.966 for balanced dataset\n"
     ]
    }
   ],
   "source": [
    "classifier = Pipeline([('tfidf', TfidfVectorizer()), ('classifier', SVC())])\n",
    "classifier.fit(X_train, y_train)\n",
    "y_pred=classifier.predict(X_test)\n",
    "print(\"Accuracy score  with SVM model is \",accuracy_score(y_test, y_pred).round(3),\"for balanced dataset\")"
   ]
  },
  {
   "cell_type": "code",
   "execution_count": 20,
   "id": "fd0e190e",
   "metadata": {},
   "outputs": [
    {
     "name": "stdout",
     "output_type": "stream",
     "text": [
      "Accuracy score  with Random Forest model is  0.957 for balanced dataset\n"
     ]
    }
   ],
   "source": [
    "classifier_forest = Pipeline([('tfidf', TfidfVectorizer()), ('classifier', RandomForestClassifier(random_state=0))])\n",
    "classifier_forest.fit(X_train, y_train)\n",
    "y_pred=classifier_forest.predict(X_test)\n",
    "print(\"Accuracy score  with Random Forest model is \",accuracy_score(y_test, y_pred).round(3),\"for balanced dataset\")"
   ]
  },
  {
   "cell_type": "markdown",
   "id": "0f20cb75",
   "metadata": {},
   "source": [
    "# Training a SVM and Random Forest models on TF-IDF vectorization of imbalanced dataset, f1 score is 0.99."
   ]
  },
  {
   "cell_type": "code",
   "execution_count": 21,
   "id": "a3cd5023",
   "metadata": {},
   "outputs": [],
   "source": [
    "X_train, X_test, y_train, y_test = train_test_split(data['message'], data['label'], test_size=0.33, random_state=42)"
   ]
  },
  {
   "cell_type": "code",
   "execution_count": 22,
   "id": "cdc84132",
   "metadata": {},
   "outputs": [
    {
     "name": "stdout",
     "output_type": "stream",
     "text": [
      "f1 score with Random Forest model is  0.987 for imbalanced dataset\n"
     ]
    }
   ],
   "source": [
    "classifier_forest = Pipeline([('tfidf', TfidfVectorizer()), ('classifier', RandomForestClassifier(random_state=0))])\n",
    "classifier_forest.fit(X_train, y_train)\n",
    "y_pred=classifier_forest.predict(X_test)\n",
    "print(\"f1 score with Random Forest model is \",f1_score(y_test, y_pred,pos_label='ham').round(3),\"for imbalanced dataset\")"
   ]
  },
  {
   "cell_type": "code",
   "execution_count": 23,
   "id": "279acdcd",
   "metadata": {},
   "outputs": [
    {
     "name": "stdout",
     "output_type": "stream",
     "text": [
      "f1 score  with SVM model is  0.991 for imbalanced dataset\n",
      "It's a best result.\n",
      "\n",
      " [[1582    5]\n",
      " [  25  227]]\n",
      "\n",
      "               precision    recall  f1-score   support\n",
      "\n",
      "         ham       0.98      1.00      0.99      1587\n",
      "        spam       0.98      0.90      0.94       252\n",
      "\n",
      "    accuracy                           0.98      1839\n",
      "   macro avg       0.98      0.95      0.96      1839\n",
      "weighted avg       0.98      0.98      0.98      1839\n",
      "\n"
     ]
    }
   ],
   "source": [
    "classifier = Pipeline([('tfidf', TfidfVectorizer()), ('classifier', SVC(C=10, gamma=0.1))])\n",
    "classifier.fit(X_train, y_train)\n",
    "y_pred=classifier.predict(X_test)\n",
    "print(\"f1 score  with SVM model is \",f1_score(y_test, y_pred,pos_label='ham').round(3),\"for imbalanced dataset\")\n",
    "print(\"It's a best result.\")\n",
    "print('\\n',confusion_matrix(y_test, y_pred))\n",
    "print('\\n',classification_report(y_test, y_pred))"
   ]
  },
  {
   "cell_type": "markdown",
   "id": "ce5ee880",
   "metadata": {},
   "source": [
    "# Find best parameters for SVM model"
   ]
  },
  {
   "cell_type": "code",
   "execution_count": 24,
   "id": "d9c5d7be",
   "metadata": {},
   "outputs": [],
   "source": [
    "tf_vectorizer=TfidfVectorizer(min_df=4,max_df=0.3,ngram_range=(1,3))\n",
    "X_train_tfidf=tf_vectorizer.fit_transform(X_train)\n",
    "X_test_tfidf=tf_vectorizer.transform(X_test)"
   ]
  },
  {
   "cell_type": "code",
   "execution_count": 25,
   "id": "ea7302b4",
   "metadata": {},
   "outputs": [],
   "source": [
    "param_grid = {'C': [0.1, 1, 10, 100, 1000], \n",
    "              'gamma': [1, 0.1, 0.01, 0.001, 0.0001],\n",
    "              'kernel': ['rbf']} \n",
    "classifier = SVC()  \n",
    "grid = GridSearchCV(classifier, param_grid, refit = True, verbose = 3)\n",
    "grid.fit(X_train_tfidf, y_train)\n",
    "print(grid.best_params_)\n",
    "print(grid.best_estimator_)\n",
    "grid_predictions = grid.predict(X_test_tfidf)\n",
    "print(classification_report(y_test, grid_predictions))"
   ]
  },
  {
   "cell_type": "markdown",
   "id": "bded316e",
   "metadata": {},
   "source": [
    "# spam detecion with CNN"
   ]
  },
  {
   "cell_type": "code",
   "execution_count": 26,
   "id": "5deb056c",
   "metadata": {},
   "outputs": [],
   "source": [
    "data['label']=data['label'].map({'ham':0,'spam':1})"
   ]
  },
  {
   "cell_type": "code",
   "execution_count": 28,
   "id": "9855b81b",
   "metadata": {},
   "outputs": [],
   "source": [
    "X_train, X_test, y_train, y_test = train_test_split(data['message'], data['label'], test_size=0.33, random_state=42)"
   ]
  },
  {
   "cell_type": "code",
   "execution_count": 29,
   "id": "106deb8d",
   "metadata": {},
   "outputs": [],
   "source": [
    "max_vocab_size=20000"
   ]
  },
  {
   "cell_type": "code",
   "execution_count": 30,
   "id": "226b90ee",
   "metadata": {},
   "outputs": [],
   "source": [
    "from keras.preprocessing.sequence import pad_sequences\n",
    "from keras.layers import Embedding, LSTM, Dense, Dropout\n",
    "from keras.preprocessing.text import Tokenizer\n",
    "from keras.models import Sequential\n",
    "import tensorflow as tf"
   ]
  },
  {
   "cell_type": "code",
   "execution_count": 31,
   "id": "b17db111",
   "metadata": {},
   "outputs": [],
   "source": [
    "tokenizer=Tokenizer(num_words=max_vocab_size)\n",
    "tokenizer.fit_on_texts(X_train)\n",
    "sequences_train=tokenizer.texts_to_sequences(X_train)\n",
    "sequences_test=tokenizer.texts_to_sequences(X_test)"
   ]
  },
  {
   "cell_type": "code",
   "execution_count": 32,
   "id": "07bb19be",
   "metadata": {},
   "outputs": [
    {
     "data": {
      "text/plain": [
       "3733"
      ]
     },
     "execution_count": 32,
     "metadata": {},
     "output_type": "execute_result"
    }
   ],
   "source": [
    "len(sequences_train)"
   ]
  },
  {
   "cell_type": "code",
   "execution_count": 33,
   "id": "edda32d9",
   "metadata": {},
   "outputs": [],
   "source": [
    "word2indx=tokenizer.word_index"
   ]
  },
  {
   "cell_type": "code",
   "execution_count": 34,
   "id": "05e447f4",
   "metadata": {},
   "outputs": [],
   "source": [
    "VOCABULARY_SIZE=len(word2indx)\n",
    "EMBEDDINGS_DIM=20"
   ]
  },
  {
   "cell_type": "code",
   "execution_count": 35,
   "id": "da663d90",
   "metadata": {},
   "outputs": [],
   "source": [
    "data_train=pad_sequences(sequences_train)\n",
    "T=data_train.shape[1]\n",
    "data_test=pad_sequences(sequences_test,maxlen=T)"
   ]
  },
  {
   "cell_type": "code",
   "execution_count": 36,
   "id": "a8c2111e",
   "metadata": {},
   "outputs": [
    {
     "data": {
      "text/plain": [
       "(1839, 121)"
      ]
     },
     "execution_count": 36,
     "metadata": {},
     "output_type": "execute_result"
    }
   ],
   "source": [
    "data_test.shape"
   ]
  },
  {
   "cell_type": "code",
   "execution_count": 38,
   "id": "e230486f",
   "metadata": {},
   "outputs": [
    {
     "data": {
      "text/plain": [
       "7259"
      ]
     },
     "execution_count": 38,
     "metadata": {},
     "output_type": "execute_result"
    }
   ],
   "source": [
    "VOCABULARY_SIZE"
   ]
  },
  {
   "cell_type": "code",
   "execution_count": 40,
   "id": "6147eeb8",
   "metadata": {},
   "outputs": [],
   "source": [
    "from keras.models import Sequential\n",
    "from keras.layers import Dense, Conv1D, MaxPool1D,LSTM"
   ]
  },
  {
   "cell_type": "code",
   "execution_count": 44,
   "id": "d4e6ab25",
   "metadata": {},
   "outputs": [
    {
     "name": "stdout",
     "output_type": "stream",
     "text": [
      "Epoch 1/50\n",
      "117/117 [==============================] - 12s 61ms/step - loss: 0.3968 - accuracy: 0.8851 - val_loss: 0.1606 - val_accuracy: 0.9657\n",
      "Epoch 2/50\n",
      "117/117 [==============================] - 6s 49ms/step - loss: 0.0699 - accuracy: 0.9879 - val_loss: 0.0675 - val_accuracy: 0.9804\n",
      "Epoch 3/50\n",
      "117/117 [==============================] - 6s 49ms/step - loss: 0.0223 - accuracy: 0.9952 - val_loss: 0.0641 - val_accuracy: 0.9842\n",
      "Epoch 4/50\n",
      "117/117 [==============================] - 6s 50ms/step - loss: 0.0112 - accuracy: 0.9981 - val_loss: 0.0705 - val_accuracy: 0.9837\n",
      "Epoch 5/50\n",
      "117/117 [==============================] - 6s 49ms/step - loss: 0.0058 - accuracy: 0.9995 - val_loss: 0.0685 - val_accuracy: 0.9853\n",
      "Epoch 6/50\n",
      "117/117 [==============================] - 6s 50ms/step - loss: 0.0040 - accuracy: 0.9997 - val_loss: 0.0683 - val_accuracy: 0.9859\n",
      "Epoch 7/50\n",
      "117/117 [==============================] - 6s 49ms/step - loss: 0.0019 - accuracy: 1.0000 - val_loss: 0.0708 - val_accuracy: 0.9859\n",
      "Epoch 8/50\n",
      "117/117 [==============================] - 6s 51ms/step - loss: 0.0014 - accuracy: 1.0000 - val_loss: 0.0732 - val_accuracy: 0.9859\n",
      "Epoch 9/50\n",
      "117/117 [==============================] - 6s 49ms/step - loss: 0.0011 - accuracy: 1.0000 - val_loss: 0.0763 - val_accuracy: 0.9859\n",
      "Epoch 10/50\n",
      "117/117 [==============================] - 6s 49ms/step - loss: 8.4377e-04 - accuracy: 1.0000 - val_loss: 0.0782 - val_accuracy: 0.9859\n",
      "Epoch 11/50\n",
      "117/117 [==============================] - 6s 48ms/step - loss: 6.8583e-04 - accuracy: 1.0000 - val_loss: 0.0791 - val_accuracy: 0.9859\n",
      "Epoch 12/50\n",
      "117/117 [==============================] - 6s 48ms/step - loss: 5.6480e-04 - accuracy: 1.0000 - val_loss: 0.0812 - val_accuracy: 0.9859\n",
      "Epoch 13/50\n",
      "117/117 [==============================] - 6s 50ms/step - loss: 4.7392e-04 - accuracy: 1.0000 - val_loss: 0.0832 - val_accuracy: 0.9859\n",
      "Epoch 14/50\n",
      "117/117 [==============================] - 6s 48ms/step - loss: 4.0200e-04 - accuracy: 1.0000 - val_loss: 0.0850 - val_accuracy: 0.9859\n",
      "Epoch 15/50\n",
      "117/117 [==============================] - 6s 48ms/step - loss: 3.4523e-04 - accuracy: 1.0000 - val_loss: 0.0862 - val_accuracy: 0.9859\n",
      "Epoch 16/50\n",
      "117/117 [==============================] - 6s 48ms/step - loss: 2.9867e-04 - accuracy: 1.0000 - val_loss: 0.0877 - val_accuracy: 0.9859\n",
      "Epoch 17/50\n",
      "117/117 [==============================] - 6s 48ms/step - loss: 2.6085e-04 - accuracy: 1.0000 - val_loss: 0.0887 - val_accuracy: 0.9859\n",
      "Epoch 18/50\n",
      "117/117 [==============================] - 6s 48ms/step - loss: 2.2885e-04 - accuracy: 1.0000 - val_loss: 0.0900 - val_accuracy: 0.9859\n",
      "Epoch 19/50\n",
      "117/117 [==============================] - 6s 48ms/step - loss: 2.0236e-04 - accuracy: 1.0000 - val_loss: 0.0911 - val_accuracy: 0.9859\n",
      "Epoch 20/50\n",
      "117/117 [==============================] - 6s 50ms/step - loss: 1.7971e-04 - accuracy: 1.0000 - val_loss: 0.0928 - val_accuracy: 0.9859\n",
      "Epoch 21/50\n",
      "117/117 [==============================] - 6s 48ms/step - loss: 1.6030e-04 - accuracy: 1.0000 - val_loss: 0.0935 - val_accuracy: 0.9859\n",
      "Epoch 22/50\n",
      "117/117 [==============================] - 6s 48ms/step - loss: 1.4356e-04 - accuracy: 1.0000 - val_loss: 0.0946 - val_accuracy: 0.9859\n",
      "Epoch 23/50\n",
      "117/117 [==============================] - 6s 50ms/step - loss: 1.2914e-04 - accuracy: 1.0000 - val_loss: 0.0959 - val_accuracy: 0.9859\n",
      "Epoch 24/50\n",
      "117/117 [==============================] - 6s 49ms/step - loss: 1.1623e-04 - accuracy: 1.0000 - val_loss: 0.0970 - val_accuracy: 0.9859\n",
      "Epoch 25/50\n",
      "117/117 [==============================] - 6s 48ms/step - loss: 1.0504e-04 - accuracy: 1.0000 - val_loss: 0.0981 - val_accuracy: 0.9859\n",
      "Epoch 26/50\n",
      "117/117 [==============================] - 6s 48ms/step - loss: 9.5363e-05 - accuracy: 1.0000 - val_loss: 0.0991 - val_accuracy: 0.9859\n",
      "Epoch 27/50\n",
      "117/117 [==============================] - 6s 48ms/step - loss: 8.6686e-05 - accuracy: 1.0000 - val_loss: 0.1004 - val_accuracy: 0.9859\n",
      "Epoch 28/50\n",
      "117/117 [==============================] - 5s 44ms/step - loss: 7.8989e-05 - accuracy: 1.0000 - val_loss: 0.1011 - val_accuracy: 0.9859\n",
      "Epoch 29/50\n",
      "117/117 [==============================] - 5s 46ms/step - loss: 7.2088e-05 - accuracy: 1.0000 - val_loss: 0.1020 - val_accuracy: 0.9859\n",
      "Epoch 30/50\n",
      "117/117 [==============================] - 7s 57ms/step - loss: 6.5901e-05 - accuracy: 1.0000 - val_loss: 0.1031 - val_accuracy: 0.9859\n",
      "Epoch 31/50\n",
      "117/117 [==============================] - 7s 57ms/step - loss: 6.0405e-05 - accuracy: 1.0000 - val_loss: 0.1039 - val_accuracy: 0.9859\n",
      "Epoch 32/50\n",
      "117/117 [==============================] - 6s 53ms/step - loss: 5.5367e-05 - accuracy: 1.0000 - val_loss: 0.1048 - val_accuracy: 0.9859\n",
      "Epoch 33/50\n",
      "117/117 [==============================] - 5s 47ms/step - loss: 5.0881e-05 - accuracy: 1.0000 - val_loss: 0.1057 - val_accuracy: 0.9859\n",
      "Epoch 34/50\n",
      "117/117 [==============================] - 6s 50ms/step - loss: 4.6810e-05 - accuracy: 1.0000 - val_loss: 0.1068 - val_accuracy: 0.9859\n",
      "Epoch 35/50\n",
      "117/117 [==============================] - 6s 49ms/step - loss: 4.3128e-05 - accuracy: 1.0000 - val_loss: 0.1075 - val_accuracy: 0.9859\n",
      "Epoch 36/50\n",
      "117/117 [==============================] - 5s 45ms/step - loss: 3.9749e-05 - accuracy: 1.0000 - val_loss: 0.1083 - val_accuracy: 0.9859\n",
      "Epoch 37/50\n",
      "117/117 [==============================] - 5s 45ms/step - loss: 3.6705e-05 - accuracy: 1.0000 - val_loss: 0.1092 - val_accuracy: 0.9859\n",
      "Epoch 38/50\n",
      "117/117 [==============================] - 6s 49ms/step - loss: 3.3866e-05 - accuracy: 1.0000 - val_loss: 0.1101 - val_accuracy: 0.9859\n",
      "Epoch 39/50\n",
      "117/117 [==============================] - 6s 51ms/step - loss: 3.1363e-05 - accuracy: 1.0000 - val_loss: 0.1111 - val_accuracy: 0.9859\n",
      "Epoch 40/50\n",
      "117/117 [==============================] - 5s 44ms/step - loss: 2.9059e-05 - accuracy: 1.0000 - val_loss: 0.1122 - val_accuracy: 0.9859\n",
      "Epoch 41/50\n",
      "117/117 [==============================] - 5s 46ms/step - loss: 2.6891e-05 - accuracy: 1.0000 - val_loss: 0.1129 - val_accuracy: 0.9859\n",
      "Epoch 42/50\n",
      "117/117 [==============================] - 5s 45ms/step - loss: 2.4918e-05 - accuracy: 1.0000 - val_loss: 0.1136 - val_accuracy: 0.9864\n",
      "Epoch 43/50\n",
      "117/117 [==============================] - 5s 45ms/step - loss: 2.3160e-05 - accuracy: 1.0000 - val_loss: 0.1148 - val_accuracy: 0.9859\n",
      "Epoch 44/50\n",
      "117/117 [==============================] - 6s 47ms/step - loss: 2.1464e-05 - accuracy: 1.0000 - val_loss: 0.1151 - val_accuracy: 0.9864\n",
      "Epoch 45/50\n",
      "117/117 [==============================] - 5s 47ms/step - loss: 1.9931e-05 - accuracy: 1.0000 - val_loss: 0.1162 - val_accuracy: 0.9864\n",
      "Epoch 46/50\n",
      "117/117 [==============================] - 6s 48ms/step - loss: 1.8524e-05 - accuracy: 1.0000 - val_loss: 0.1169 - val_accuracy: 0.9864\n",
      "Epoch 47/50\n",
      "117/117 [==============================] - 7s 62ms/step - loss: 1.7241e-05 - accuracy: 1.0000 - val_loss: 0.1177 - val_accuracy: 0.9864\n",
      "Epoch 48/50\n",
      "117/117 [==============================] - 7s 59ms/step - loss: 1.6015e-05 - accuracy: 1.0000 - val_loss: 0.1186 - val_accuracy: 0.9859loss: 1.6121e-05 - \n",
      "Epoch 49/50\n",
      "117/117 [==============================] - 6s 52ms/step - loss: 1.4912e-05 - accuracy: 1.0000 - val_loss: 0.1197 - val_accuracy: 0.9859\n",
      "Epoch 50/50\n",
      "117/117 [==============================] - 6s 52ms/step - loss: 1.3872e-05 - accuracy: 1.0000 - val_loss: 0.1205 - val_accuracy: 0.9859\n"
     ]
    }
   ],
   "source": [
    "model_lstm = Sequential()\n",
    "model_lstm.add(Embedding(input_dim=VOCABULARY_SIZE + 1, output_dim=EMBEDDINGS_DIM, input_length=len(data_train[1])))\n",
    "model_lstm.add(Conv1D(filters=32, kernel_size=3, activation='relu'))\n",
    "model_lstm.add(MaxPool1D())\n",
    "model_lstm.add(LSTM(10))\n",
    "model_lstm.add(Dense(8, activation='relu'))\n",
    "model_lstm.add(Dense(1, activation='sigmoid'))\n",
    "model_lstm.compile(optimizer='adam', loss='binary_crossentropy', metrics=['accuracy'])\n",
    "r_lstm=model_lstm.fit(data_train, y_train, validation_data=(data_test, y_test), epochs=50)"
   ]
  },
  {
   "cell_type": "code",
   "execution_count": 48,
   "id": "58a4b53d",
   "metadata": {},
   "outputs": [
    {
     "data": {
      "text/plain": [
       "<matplotlib.legend.Legend at 0x24beef07430>"
      ]
     },
     "execution_count": 48,
     "metadata": {},
     "output_type": "execute_result"
    },
    {
     "data": {
      "image/png": "[encoded data removed]",
      "text/plain": [
       "<Figure size 432x288 with 1 Axes>"
      ]
     },
     "metadata": {
      "needs_background": "light"
     },
     "output_type": "display_data"
    }
   ],
   "source": [
    "plt.plot(r_lstm.history['loss'],label=\"Loss\")\n",
    "plt.plot(r_lstm.history['val_loss'],label='validaion_loss')\n",
    "plt.legend()"
   ]
  },
  {
   "cell_type": "code",
   "execution_count": 49,
   "id": "015b58c0",
   "metadata": {},
   "outputs": [
    {
     "data": {
      "text/plain": [
       "<matplotlib.legend.Legend at 0x24beef7e850>"
      ]
     },
     "execution_count": 49,
     "metadata": {},
     "output_type": "execute_result"
    },
    {
     "data": {
      "image/png": "[encoded data removed]",
      "text/plain": [
       "<Figure size 432x288 with 1 Axes>"
      ]
     },
     "metadata": {
      "needs_background": "light"
     },
     "output_type": "display_data"
    }
   ],
   "source": [
    "plt.plot(r_lstm.history['accuracy'],label=\"accuracy\")\n",
    "plt.plot(r_lstm.history['val_accuracy'],label='val_accuracy')\n",
    "plt.legend()"
   ]
  },
  {
   "cell_type": "code",
   "execution_count": 60,
   "id": "fab211de",
   "metadata": {},
   "outputs": [
    {
     "name": "stdout",
     "output_type": "stream",
     "text": [
      "Accuracy score with LSTM CNN is  0.9858618974685669\n"
     ]
    }
   ],
   "source": [
    "print(\"Accuracy score with LSTM CNN is \",r_lstm.history['val_accuracy'][-1])"
   ]
  },
  {
   "cell_type": "code",
   "execution_count": null,
   "id": "61324634",
   "metadata": {},
   "outputs": [],
   "source": []
  }
 ],
 "metadata": {
  "kernelspec": {
   "display_name": "Python 3",
   "language": "python",
   "name": "python3"
  },
  "language_info": {
   "codemirror_mode": {
    "name": "ipython",
    "version": 3
   },
   "file_extension": ".py",
   "mimetype": "text/x-python",
   "name": "python",
   "nbconvert_exporter": "python",
   "pygments_lexer": "ipython3",
   "version": "3.8.8"
  }
 },
 "nbformat": 4,
 "nbformat_minor": 5
}
