{
 "cells": [
  {
   "cell_type": "code",
   "execution_count": 1,
   "id": "00792dcf",
   "metadata": {},
   "outputs": [],
   "source": [
    "import numpy as np\n",
    "import pandas as pd"
   ]
  },
  {
   "cell_type": "code",
   "execution_count": 2,
   "id": "476d795e",
   "metadata": {},
   "outputs": [
    {
     "name": "stdout",
     "output_type": "stream",
     "text": [
      "Ink helps drive democracy in Asia\n",
      "\n",
      "The Kyrgyz Republic, a small, mountainous state of the former Soviet republic, is using invisible ink and ultraviolet readers in the country's elections as part of a drive to prevent multiple voting.\n",
      "\n",
      "This new technology is causing both worries and guarded optimism among different sectors of the population. In an effort to live up to its reputation in the 1990s as \"an island of democracy\", the Kyrgyz President, Askar Akaev, pushed through the law requiring the use of ink during the upcoming Parliamentary and Presidential elections. The US government agreed to fund all expenses associated with this decision.\n",
      "\n",
      "The Kyrgyz Republic is seen by many experts as backsliding from the high point it reached in the mid-1990s with a hastily pushed through referendum in 2003, reducing the legislative branch to one chamber with 75 deputies. The use of ink is only one part of a general effort to show commitment towards more open elections - the German Embassy, the Soros Foundation and the Kyrgyz government have all contributed to purchase transparent ballot boxes.\n",
      "\n",
      "The actual technology behind the ink is not that complicated. The ink is sprayed on a person's left thumb. It dries and is not visible under normal light.\n",
      "\n",
      "However, the presence of ultraviolet light (of the kind used to verify money) causes the ink to glow with a neon yellow light. At the entrance to each polling station, one election official will scan voter's fingers with UV lamp before allowing them to enter, and every voter will have his/her left thumb sprayed with ink before receiving the ballot. If the ink shows under the UV light the voter will not be allowed to enter the polling station. Likewise, any voter who refuses to be inked will not receive the ballot. These elections are assuming even greater significance because of two large factors - the upcoming parliamentary elections are a prelude to a potentially regime changing presidential election in the Autumn as well as the echo of recent elections in other former Soviet Republics, notably Ukraine and Georgia. The use of ink has been controversial - especially among groups perceived to be pro-government.\n",
      "\n",
      "Widely circulated articles compared the use of ink to the rural practice of marking sheep - a still common metaphor in this primarily agricultural society.\n",
      "\n",
      "The author of one such article began a petition drive against the use of the ink. The greatest part of the opposition to ink has often been sheer ignorance. Local newspapers have carried stories that the ink is harmful, radioactive or even that the ultraviolet readers may cause health problems. Others, such as the aggressively middle of the road, Coalition of Non-governmental Organizations, have lauded the move as an important step forward. This type of ink has been used in many elections in the world, in countries as varied as Serbia, South Africa, Indonesia and Turkey. The other common type of ink in elections is indelible visible ink - but as the elections in Afghanistan showed, improper use of this type of ink can cause additional problems. The use of \"invisible\" ink is not without its own problems. In most elections, numerous rumors have spread about it.\n",
      "\n",
      "In Serbia, for example, both Christian and Islamic leaders assured their populations that its use was not contrary to religion. Other rumours are associated with how to remove the ink - various soft drinks, solvents and cleaning products are put forward. However, in reality, the ink is very effective at getting under the cuticle of the thumb and difficult to wash off. The ink stays on the finger for at least 72 hours and for up to a week. The use of ink and readers by itself is not a panacea for election ills. The passage of the inking law is, nevertheless, a clear step forward towards free and fair elections.\" The country's widely watched parliamentary elections are scheduled for 27 February.\n",
      "\n",
      "David Mikosz works for the IFES, an international, non-profit organisation that supports the building of democratic societies.\n"
     ]
    }
   ],
   "source": [
    "with open('text_summary.txt') as f:\n",
    "    text = f.read()\n",
    "    print(text)"
   ]
  },
  {
   "cell_type": "code",
   "execution_count": 3,
   "id": "74ee9e15",
   "metadata": {},
   "outputs": [
    {
     "data": {
      "text/plain": [
       "4043"
      ]
     },
     "execution_count": 3,
     "metadata": {},
     "output_type": "execute_result"
    }
   ],
   "source": [
    "len(text)"
   ]
  },
  {
   "cell_type": "code",
   "execution_count": 4,
   "id": "0d833422",
   "metadata": {},
   "outputs": [],
   "source": [
    "from gensim.models import Word2Vec\n",
    "import re\n",
    "text = re.sub(r'\\[[0-9]*]',' ',text)\n",
    "text= re.sub(r'\\s+',' ',text)\n",
    "text=text.lower()\n",
    "text= re.sub(r'\\d',' ',text)\n",
    "text= re.sub(r'\\s',' ',text)"
   ]
  },
  {
   "cell_type": "code",
   "execution_count": 6,
   "id": "bf1f5290",
   "metadata": {},
   "outputs": [],
   "source": [
    "import nltk\n",
    "from string import punctuation\n",
    "from nltk.corpus import stopwords"
   ]
  },
  {
   "cell_type": "code",
   "execution_count": 7,
   "id": "aa62655f",
   "metadata": {},
   "outputs": [],
   "source": [
    "sentences_tokens=nltk.sent_tokenize(text)"
   ]
  },
  {
   "cell_type": "code",
   "execution_count": 8,
   "id": "9a7ed927",
   "metadata": {},
   "outputs": [
    {
     "data": {
      "text/plain": [
       "[\"ink helps drive democracy in asia the kyrgyz republic, a small, mountainous state of the former soviet republic, is using invisible ink and ultraviolet readers in the country's elections as part of a drive to prevent multiple voting.\",\n",
       " 'this new technology is causing both worries and guarded optimism among different sectors of the population.',\n",
       " 'in an effort to live up to its reputation in the     s as \"an island of democracy\", the kyrgyz president, askar akaev, pushed through the law requiring the use of ink during the upcoming parliamentary and presidential elections.',\n",
       " 'the us government agreed to fund all expenses associated with this decision.',\n",
       " 'the kyrgyz republic is seen by many experts as backsliding from the high point it reached in the mid-    s with a hastily pushed through referendum in     , reducing the legislative branch to one chamber with    deputies.',\n",
       " 'the use of ink is only one part of a general effort to show commitment towards more open elections - the german embassy, the soros foundation and the kyrgyz government have all contributed to purchase transparent ballot boxes.',\n",
       " 'the actual technology behind the ink is not that complicated.',\n",
       " \"the ink is sprayed on a person's left thumb.\",\n",
       " 'it dries and is not visible under normal light.',\n",
       " 'however, the presence of ultraviolet light (of the kind used to verify money) causes the ink to glow with a neon yellow light.',\n",
       " \"at the entrance to each polling station, one election official will scan voter's fingers with uv lamp before allowing them to enter, and every voter will have his/her left thumb sprayed with ink before receiving the ballot.\",\n",
       " 'if the ink shows under the uv light the voter will not be allowed to enter the polling station.',\n",
       " 'likewise, any voter who refuses to be inked will not receive the ballot.',\n",
       " 'these elections are assuming even greater significance because of two large factors - the upcoming parliamentary elections are a prelude to a potentially regime changing presidential election in the autumn as well as the echo of recent elections in other former soviet republics, notably ukraine and georgia.',\n",
       " 'the use of ink has been controversial - especially among groups perceived to be pro-government.',\n",
       " 'widely circulated articles compared the use of ink to the rural practice of marking sheep - a still common metaphor in this primarily agricultural society.',\n",
       " 'the author of one such article began a petition drive against the use of the ink.',\n",
       " 'the greatest part of the opposition to ink has often been sheer ignorance.',\n",
       " 'local newspapers have carried stories that the ink is harmful, radioactive or even that the ultraviolet readers may cause health problems.',\n",
       " 'others, such as the aggressively middle of the road, coalition of non-governmental organizations, have lauded the move as an important step forward.',\n",
       " 'this type of ink has been used in many elections in the world, in countries as varied as serbia, south africa, indonesia and turkey.',\n",
       " 'the other common type of ink in elections is indelible visible ink - but as the elections in afghanistan showed, improper use of this type of ink can cause additional problems.',\n",
       " 'the use of \"invisible\" ink is not without its own problems.',\n",
       " 'in most elections, numerous rumors have spread about it.',\n",
       " 'in serbia, for example, both christian and islamic leaders assured their populations that its use was not contrary to religion.',\n",
       " 'other rumours are associated with how to remove the ink - various soft drinks, solvents and cleaning products are put forward.',\n",
       " 'however, in reality, the ink is very effective at getting under the cuticle of the thumb and difficult to wash off.',\n",
       " 'the ink stays on the finger for at least    hours and for up to a week.',\n",
       " 'the use of ink and readers by itself is not a panacea for election ills.',\n",
       " 'the passage of the inking law is, nevertheless, a clear step forward towards free and fair elections.\"',\n",
       " \"the country's widely watched parliamentary elections are scheduled for    february.\",\n",
       " 'david mikosz works for the ifes, an international, non-profit organisation that supports the building of democratic societies.']"
      ]
     },
     "execution_count": 8,
     "metadata": {},
     "output_type": "execute_result"
    }
   ],
   "source": [
    "sentences_tokens"
   ]
  },
  {
   "cell_type": "code",
   "execution_count": 9,
   "id": "4a0d3ddb",
   "metadata": {},
   "outputs": [],
   "source": [
    "from nltk.tokenize import word_tokenize\n",
    "word_tokens=word_tokenize(text)"
   ]
  },
  {
   "cell_type": "code",
   "execution_count": null,
   "id": "6bac77fe",
   "metadata": {},
   "outputs": [],
   "source": [
    "word_tokens"
   ]
  },
  {
   "cell_type": "code",
   "execution_count": 11,
   "id": "cf43698e",
   "metadata": {},
   "outputs": [
    {
     "name": "stdout",
     "output_type": "stream",
     "text": [
      "!\"#$%&'()*+,-./:;<=>?@[\\]^_`{|}~\n"
     ]
    }
   ],
   "source": [
    "print(punctuation)"
   ]
  },
  {
   "cell_type": "code",
   "execution_count": 12,
   "id": "008e3e95",
   "metadata": {},
   "outputs": [],
   "source": [
    "punctuation=punctuation + '``'+ \"''\""
   ]
  },
  {
   "cell_type": "code",
   "execution_count": 13,
   "id": "344c7fe0",
   "metadata": {},
   "outputs": [],
   "source": [
    "new_stopwords=['an','a','the','uv',\"'s\"]\n",
    "stopwords_words = stopwords.words('english')\n",
    "stopwords_words.extend(new_stopwords)"
   ]
  },
  {
   "cell_type": "code",
   "execution_count": 14,
   "id": "6fa27531",
   "metadata": {
    "scrolled": true
   },
   "outputs": [
    {
     "name": "stdout",
     "output_type": "stream",
     "text": [
      "['i', 'me', 'my', 'myself', 'we', 'our', 'ours', 'ourselves', 'you', \"you're\", \"you've\", \"you'll\", \"you'd\", 'your', 'yours', 'yourself', 'yourselves', 'he', 'him', 'his', 'himself', 'she', \"she's\", 'her', 'hers', 'herself', 'it', \"it's\", 'its', 'itself', 'they', 'them', 'their', 'theirs', 'themselves', 'what', 'which', 'who', 'whom', 'this', 'that', \"that'll\", 'these', 'those', 'am', 'is', 'are', 'was', 'were', 'be', 'been', 'being', 'have', 'has', 'had', 'having', 'do', 'does', 'did', 'doing', 'a', 'an', 'the', 'and', 'but', 'if', 'or', 'because', 'as', 'until', 'while', 'of', 'at', 'by', 'for', 'with', 'about', 'against', 'between', 'into', 'through', 'during', 'before', 'after', 'above', 'below', 'to', 'from', 'up', 'down', 'in', 'out', 'on', 'off', 'over', 'under', 'again', 'further', 'then', 'once', 'here', 'there', 'when', 'where', 'why', 'how', 'all', 'any', 'both', 'each', 'few', 'more', 'most', 'other', 'some', 'such', 'no', 'nor', 'not', 'only', 'own', 'same', 'so', 'than', 'too', 'very', 's', 't', 'can', 'will', 'just', 'don', \"don't\", 'should', \"should've\", 'now', 'd', 'll', 'm', 'o', 're', 've', 'y', 'ain', 'aren', \"aren't\", 'couldn', \"couldn't\", 'didn', \"didn't\", 'doesn', \"doesn't\", 'hadn', \"hadn't\", 'hasn', \"hasn't\", 'haven', \"haven't\", 'isn', \"isn't\", 'ma', 'mightn', \"mightn't\", 'mustn', \"mustn't\", 'needn', \"needn't\", 'shan', \"shan't\", 'shouldn', \"shouldn't\", 'wasn', \"wasn't\", 'weren', \"weren't\", 'won', \"won't\", 'wouldn', \"wouldn't\", 'an', 'a', 'the', 'uv', \"'s\"]\n"
     ]
    }
   ],
   "source": [
    "print(stopwords_words)"
   ]
  },
  {
   "cell_type": "code",
   "execution_count": 15,
   "id": "08469414",
   "metadata": {},
   "outputs": [],
   "source": [
    "for word in word_tokens:\n",
    "    if word in stopwords_words or word in punctuation:\n",
    "        word_tokens.remove(word)"
   ]
  },
  {
   "cell_type": "code",
   "execution_count": null,
   "id": "241e1957",
   "metadata": {},
   "outputs": [],
   "source": [
    "word_tokens"
   ]
  },
  {
   "cell_type": "code",
   "execution_count": 17,
   "id": "828f7331",
   "metadata": {},
   "outputs": [],
   "source": [
    "word_freq={}\n",
    "for word in word_tokens:\n",
    "    if word in word_freq.keys():\n",
    "        word_freq[word]+=1\n",
    "    else:\n",
    "        word_freq[word] = 1        "
   ]
  },
  {
   "cell_type": "code",
   "execution_count": null,
   "id": "8d90473c",
   "metadata": {},
   "outputs": [],
   "source": [
    "word_freq"
   ]
  },
  {
   "cell_type": "code",
   "execution_count": 19,
   "id": "fd36454d",
   "metadata": {},
   "outputs": [],
   "source": [
    "max_freq = max(word_freq.values())"
   ]
  },
  {
   "cell_type": "code",
   "execution_count": 20,
   "id": "6f6987a8",
   "metadata": {},
   "outputs": [],
   "source": [
    "for word in word_freq.keys():\n",
    "     word_freq[word] /= max_freq    "
   ]
  },
  {
   "cell_type": "code",
   "execution_count": null,
   "id": "d7265007",
   "metadata": {},
   "outputs": [],
   "source": [
    "word_freq"
   ]
  },
  {
   "cell_type": "code",
   "execution_count": 22,
   "id": "f8ea46d7",
   "metadata": {},
   "outputs": [],
   "source": [
    "from nltk.tokenize import sent_tokenize"
   ]
  },
  {
   "cell_type": "code",
   "execution_count": 23,
   "id": "e957b05e",
   "metadata": {},
   "outputs": [],
   "source": [
    "sent_score={}\n",
    "for sent in sentences_tokens:\n",
    "    for word in sent:\n",
    "        if word in word_freq.keys():\n",
    "            if sent not in sent_score.keys():\n",
    "                sent_score[sent] = word_freq[word]\n",
    "            else:\n",
    "                sent_score[sent]+=word_freq[word]\n",
    "            \n",
    "    "
   ]
  },
  {
   "cell_type": "code",
   "execution_count": 24,
   "id": "d37ee428",
   "metadata": {},
   "outputs": [
    {
     "data": {
      "text/plain": [
       "{\"ink helps drive democracy in asia the kyrgyz republic, a small, mountainous state of the former soviet republic, is using invisible ink and ultraviolet readers in the country's elections as part of a drive to prevent multiple voting.\": 2.8863636363636367,\n",
       " 'this new technology is causing both worries and guarded optimism among different sectors of the population.': 1.0454545454545454,\n",
       " 'in an effort to live up to its reputation in the     s as \"an island of democracy\", the kyrgyz president, askar akaev, pushed through the law requiring the use of ink during the upcoming parliamentary and presidential elections.': 3.5000000000000004,\n",
       " 'the us government agreed to fund all expenses associated with this decision.': 0.8409090909090909,\n",
       " 'the kyrgyz republic is seen by many experts as backsliding from the high point it reached in the mid-    s with a hastily pushed through referendum in     , reducing the legislative branch to one chamber with    deputies.': 1.9318181818181819,\n",
       " 'the use of ink is only one part of a general effort to show commitment towards more open elections - the german embassy, the soros foundation and the kyrgyz government have all contributed to purchase transparent ballot boxes.': 2.954545454545455,\n",
       " 'the actual technology behind the ink is not that complicated.': 0.8409090909090909,\n",
       " \"the ink is sprayed on a person's left thumb.\": 0.4318181818181818,\n",
       " 'it dries and is not visible under normal light.': 0.4318181818181818,\n",
       " 'however, the presence of ultraviolet light (of the kind used to verify money) causes the ink to glow with a neon yellow light.': 0.7045454545454546,\n",
       " \"at the entrance to each polling station, one election official will scan voter's fingers with uv lamp before allowing them to enter, and every voter will have his/her left thumb sprayed with ink before receiving the ballot.\": 2.613636363636364,\n",
       " 'if the ink shows under the uv light the voter will not be allowed to enter the polling station.': 0.4318181818181818,\n",
       " 'likewise, any voter who refuses to be inked will not receive the ballot.': 0.5,\n",
       " 'these elections are assuming even greater significance because of two large factors - the upcoming parliamentary elections are a prelude to a potentially regime changing presidential election in the autumn as well as the echo of recent elections in other former soviet republics, notably ukraine and georgia.': 4.795454545454544,\n",
       " 'the use of ink has been controversial - especially among groups perceived to be pro-government.': 0.8409090909090909,\n",
       " 'widely circulated articles compared the use of ink to the rural practice of marking sheep - a still common metaphor in this primarily agricultural society.': 2.272727272727273,\n",
       " 'the author of one such article began a petition drive against the use of the ink.': 1.25,\n",
       " 'the greatest part of the opposition to ink has often been sheer ignorance.': 0.8409090909090909,\n",
       " 'local newspapers have carried stories that the ink is harmful, radioactive or even that the ultraviolet readers may cause health problems.': 2.954545454545455,\n",
       " 'others, such as the aggressively middle of the road, coalition of non-governmental organizations, have lauded the move as an important step forward.': 2.8863636363636367,\n",
       " 'this type of ink has been used in many elections in the world, in countries as varied as serbia, south africa, indonesia and turkey.': 2.272727272727273,\n",
       " 'the other common type of ink in elections is indelible visible ink - but as the elections in afghanistan showed, improper use of this type of ink can cause additional problems.': 1.7272727272727275,\n",
       " 'the use of \"invisible\" ink is not without its own problems.': 0.022727272727272728,\n",
       " 'in most elections, numerous rumors have spread about it.': 0.7045454545454546,\n",
       " 'in serbia, for example, both christian and islamic leaders assured their populations that its use was not contrary to religion.': 2.4090909090909096,\n",
       " 'other rumours are associated with how to remove the ink - various soft drinks, solvents and cleaning products are put forward.': 1.7272727272727275,\n",
       " 'however, in reality, the ink is very effective at getting under the cuticle of the thumb and difficult to wash off.': 0.9772727272727273,\n",
       " 'the ink stays on the finger for at least    hours and for up to a week.': 1.0454545454545454,\n",
       " 'the use of ink and readers by itself is not a panacea for election ills.': 1.25,\n",
       " 'the passage of the inking law is, nevertheless, a clear step forward towards free and fair elections.\"': 2.0000000000000004,\n",
       " \"the country's widely watched parliamentary elections are scheduled for    february.\": 1.25,\n",
       " 'david mikosz works for the ifes, an international, non-profit organisation that supports the building of democratic societies.': 1.7954545454545456}"
      ]
     },
     "execution_count": 24,
     "metadata": {},
     "output_type": "execute_result"
    }
   ],
   "source": [
    "sent_score"
   ]
  },
  {
   "cell_type": "code",
   "execution_count": 25,
   "id": "0f90385d",
   "metadata": {},
   "outputs": [],
   "source": [
    "# sent_score=sorted(sent_score,key=sent_score.get,reverse=True)\n",
    "sorted_sent_score = dict(sorted(sent_score.items(), key = lambda x: x[1], reverse = True))"
   ]
  },
  {
   "cell_type": "code",
   "execution_count": 26,
   "id": "4f6bf981",
   "metadata": {},
   "outputs": [
    {
     "data": {
      "text/plain": [
       "{'these elections are assuming even greater significance because of two large factors - the upcoming parliamentary elections are a prelude to a potentially regime changing presidential election in the autumn as well as the echo of recent elections in other former soviet republics, notably ukraine and georgia.': 4.795454545454544,\n",
       " 'in an effort to live up to its reputation in the     s as \"an island of democracy\", the kyrgyz president, askar akaev, pushed through the law requiring the use of ink during the upcoming parliamentary and presidential elections.': 3.5000000000000004,\n",
       " 'the use of ink is only one part of a general effort to show commitment towards more open elections - the german embassy, the soros foundation and the kyrgyz government have all contributed to purchase transparent ballot boxes.': 2.954545454545455,\n",
       " 'local newspapers have carried stories that the ink is harmful, radioactive or even that the ultraviolet readers may cause health problems.': 2.954545454545455,\n",
       " \"ink helps drive democracy in asia the kyrgyz republic, a small, mountainous state of the former soviet republic, is using invisible ink and ultraviolet readers in the country's elections as part of a drive to prevent multiple voting.\": 2.8863636363636367,\n",
       " 'others, such as the aggressively middle of the road, coalition of non-governmental organizations, have lauded the move as an important step forward.': 2.8863636363636367,\n",
       " \"at the entrance to each polling station, one election official will scan voter's fingers with uv lamp before allowing them to enter, and every voter will have his/her left thumb sprayed with ink before receiving the ballot.\": 2.613636363636364,\n",
       " 'in serbia, for example, both christian and islamic leaders assured their populations that its use was not contrary to religion.': 2.4090909090909096,\n",
       " 'widely circulated articles compared the use of ink to the rural practice of marking sheep - a still common metaphor in this primarily agricultural society.': 2.272727272727273,\n",
       " 'this type of ink has been used in many elections in the world, in countries as varied as serbia, south africa, indonesia and turkey.': 2.272727272727273,\n",
       " 'the passage of the inking law is, nevertheless, a clear step forward towards free and fair elections.\"': 2.0000000000000004,\n",
       " 'the kyrgyz republic is seen by many experts as backsliding from the high point it reached in the mid-    s with a hastily pushed through referendum in     , reducing the legislative branch to one chamber with    deputies.': 1.9318181818181819,\n",
       " 'david mikosz works for the ifes, an international, non-profit organisation that supports the building of democratic societies.': 1.7954545454545456,\n",
       " 'the other common type of ink in elections is indelible visible ink - but as the elections in afghanistan showed, improper use of this type of ink can cause additional problems.': 1.7272727272727275,\n",
       " 'other rumours are associated with how to remove the ink - various soft drinks, solvents and cleaning products are put forward.': 1.7272727272727275,\n",
       " 'the author of one such article began a petition drive against the use of the ink.': 1.25,\n",
       " 'the use of ink and readers by itself is not a panacea for election ills.': 1.25,\n",
       " \"the country's widely watched parliamentary elections are scheduled for    february.\": 1.25,\n",
       " 'this new technology is causing both worries and guarded optimism among different sectors of the population.': 1.0454545454545454,\n",
       " 'the ink stays on the finger for at least    hours and for up to a week.': 1.0454545454545454,\n",
       " 'however, in reality, the ink is very effective at getting under the cuticle of the thumb and difficult to wash off.': 0.9772727272727273,\n",
       " 'the us government agreed to fund all expenses associated with this decision.': 0.8409090909090909,\n",
       " 'the actual technology behind the ink is not that complicated.': 0.8409090909090909,\n",
       " 'the use of ink has been controversial - especially among groups perceived to be pro-government.': 0.8409090909090909,\n",
       " 'the greatest part of the opposition to ink has often been sheer ignorance.': 0.8409090909090909,\n",
       " 'however, the presence of ultraviolet light (of the kind used to verify money) causes the ink to glow with a neon yellow light.': 0.7045454545454546,\n",
       " 'in most elections, numerous rumors have spread about it.': 0.7045454545454546,\n",
       " 'likewise, any voter who refuses to be inked will not receive the ballot.': 0.5,\n",
       " \"the ink is sprayed on a person's left thumb.\": 0.4318181818181818,\n",
       " 'it dries and is not visible under normal light.': 0.4318181818181818,\n",
       " 'if the ink shows under the uv light the voter will not be allowed to enter the polling station.': 0.4318181818181818,\n",
       " 'the use of \"invisible\" ink is not without its own problems.': 0.022727272727272728}"
      ]
     },
     "execution_count": 26,
     "metadata": {},
     "output_type": "execute_result"
    }
   ],
   "source": [
    "sorted_sent_score"
   ]
  },
  {
   "cell_type": "markdown",
   "id": "daa4d7d3",
   "metadata": {},
   "source": [
    "# to get the most important sentences - 30 percent"
   ]
  },
  {
   "cell_type": "code",
   "execution_count": 27,
   "id": "e5c4a7d7",
   "metadata": {},
   "outputs": [],
   "source": [
    "m = int(len(sent_score)*0.3)"
   ]
  },
  {
   "cell_type": "code",
   "execution_count": 28,
   "id": "346ba7d5",
   "metadata": {},
   "outputs": [],
   "source": [
    "from heapq import nlargest"
   ]
  },
  {
   "cell_type": "code",
   "execution_count": 29,
   "id": "d7b1b815",
   "metadata": {},
   "outputs": [],
   "source": [
    "sum_text=nlargest(n=m,iterable=sent_score, key=sent_score.get)"
   ]
  },
  {
   "cell_type": "code",
   "execution_count": 30,
   "id": "ff79091c",
   "metadata": {},
   "outputs": [],
   "source": [
    "sum_text=[sent.capitalize() for sent in sum_text]"
   ]
  },
  {
   "cell_type": "code",
   "execution_count": 31,
   "id": "30331a2f",
   "metadata": {},
   "outputs": [],
   "source": [
    "summary=\" \".join(sum_text)"
   ]
  },
  {
   "cell_type": "code",
   "execution_count": 32,
   "id": "f7333062",
   "metadata": {},
   "outputs": [
    {
     "data": {
      "text/plain": [
       "'These elections are assuming even greater significance because of two large factors - the upcoming parliamentary elections are a prelude to a potentially regime changing presidential election in the autumn as well as the echo of recent elections in other former soviet republics, notably ukraine and georgia. In an effort to live up to its reputation in the     s as \"an island of democracy\", the kyrgyz president, askar akaev, pushed through the law requiring the use of ink during the upcoming parliamentary and presidential elections. The use of ink is only one part of a general effort to show commitment towards more open elections - the german embassy, the soros foundation and the kyrgyz government have all contributed to purchase transparent ballot boxes. Local newspapers have carried stories that the ink is harmful, radioactive or even that the ultraviolet readers may cause health problems. Ink helps drive democracy in asia the kyrgyz republic, a small, mountainous state of the former soviet republic, is using invisible ink and ultraviolet readers in the country\\'s elections as part of a drive to prevent multiple voting. Others, such as the aggressively middle of the road, coalition of non-governmental organizations, have lauded the move as an important step forward. At the entrance to each polling station, one election official will scan voter\\'s fingers with uv lamp before allowing them to enter, and every voter will have his/her left thumb sprayed with ink before receiving the ballot. In serbia, for example, both christian and islamic leaders assured their populations that its use was not contrary to religion. Widely circulated articles compared the use of ink to the rural practice of marking sheep - a still common metaphor in this primarily agricultural society.'"
      ]
     },
     "execution_count": 32,
     "metadata": {},
     "output_type": "execute_result"
    }
   ],
   "source": [
    "summary"
   ]
  },
  {
   "cell_type": "code",
   "execution_count": 33,
   "id": "944428a4",
   "metadata": {},
   "outputs": [
    {
     "data": {
      "text/plain": [
       "44.471988101140305"
      ]
     },
     "execution_count": 33,
     "metadata": {},
     "output_type": "execute_result"
    }
   ],
   "source": [
    "len(summary)*100/len(text)"
   ]
  }
 ],
 "metadata": {
  "kernelspec": {
   "display_name": "Python 3",
   "language": "python",
   "name": "python3"
  },
  "language_info": {
   "codemirror_mode": {
    "name": "ipython",
    "version": 3
   },
   "file_extension": ".py",
   "mimetype": "text/x-python",
   "name": "python",
   "nbconvert_exporter": "python",
   "pygments_lexer": "ipython3",
   "version": "3.8.8"
  }
 },
 "nbformat": 4,
 "nbformat_minor": 5
}
